{
 "cells": [
  {
   "cell_type": "markdown",
   "id": "cb9d4032-7061-4b49-95e1-a30001a59a69",
   "metadata": {},
   "source": [
    "* Multi Words Variable Names "
   ]
  },
  {
   "cell_type": "raw",
   "id": "f6757795-5d5d-4f18-8040-b389413c3cc1",
   "metadata": {},
   "source": [
    "camel case:\n",
    "Each word starts with a capital letter expect first"
   ]
  },
  {
   "cell_type": "code",
   "execution_count": 5,
   "id": "5b2f9710-fbb1-47ae-b671-ea25dd658bc9",
   "metadata": {},
   "outputs": [],
   "source": [
    "myVariableName = \"John\""
   ]
  },
  {
   "cell_type": "raw",
   "id": "c36914d9-e935-4bc3-9fea-d5384b085bf6",
   "metadata": {},
   "source": [
    "pascal case:\n",
    "Each word starts with a capital letter:"
   ]
  },
  {
   "cell_type": "code",
   "execution_count": 7,
   "id": "28d64017-a224-4229-8de1-3d6092827ab0",
   "metadata": {},
   "outputs": [],
   "source": [
    "MyVariableName = \"John\""
   ]
  },
  {
   "cell_type": "raw",
   "id": "8fafb0fd-618d-4a83-96ff-1a95550538cf",
   "metadata": {},
   "source": [
    "Snake case:\n",
    "Each word is separated by an underscore character"
   ]
  },
  {
   "cell_type": "code",
   "execution_count": 11,
   "id": "57d57875-eaa4-4222-894f-6236440ac4c0",
   "metadata": {},
   "outputs": [],
   "source": [
    "my_variable_name = \"John\""
   ]
  },
  {
   "cell_type": "markdown",
   "id": "39e8d555-ff0b-45ed-b8f1-1cd8b2c8d96d",
   "metadata": {},
   "source": [
    "* Many Values to Multiple variables"
   ]
  },
  {
   "cell_type": "code",
   "execution_count": 18,
   "id": "8fcc4247-bea0-4704-98f9-48ad79beefea",
   "metadata": {},
   "outputs": [
    {
     "name": "stdout",
     "output_type": "stream",
     "text": [
      "orange\n",
      "Banana\n",
      "Cherrry\n"
     ]
    }
   ],
   "source": [
    "x , y , z = \"orange\" , \"Banana\" , \"Cherrry\"\n",
    "print(x)\n",
    "print(y)\n",
    "print(z)"
   ]
  },
  {
   "cell_type": "markdown",
   "id": "adc6af12-610f-4da9-992a-254f3eeaa0c5",
   "metadata": {},
   "source": [
    "* One Value to Multiple variables"
   ]
  },
  {
   "cell_type": "code",
   "execution_count": 24,
   "id": "3028d586-c64c-4a00-9a6c-c2258ed118e0",
   "metadata": {},
   "outputs": [
    {
     "name": "stdout",
     "output_type": "stream",
     "text": [
      "Orange\n",
      "Orange\n",
      "Orange\n"
     ]
    }
   ],
   "source": [
    "x = y = z = \"Orange\"\n",
    "print(x)\n",
    "print(y)\n",
    "print(z)"
   ]
  },
  {
   "cell_type": "markdown",
   "id": "3c95e305-c0ee-448f-91d7-77d38b57b0c4",
   "metadata": {},
   "source": [
    "* Unplack a collection"
   ]
  },
  {
   "cell_type": "code",
   "execution_count": 27,
   "id": "f4d8344d-16a7-44d7-b938-7c72d9c6c81a",
   "metadata": {},
   "outputs": [
    {
     "name": "stdout",
     "output_type": "stream",
     "text": [
      "apple\n",
      "banana\n",
      "cherry\n"
     ]
    }
   ],
   "source": [
    "fruits = [\"apple\" , \"banana\" , \"cherry\"]\n",
    "x , y  , z = fruits\n",
    "print(x)\n",
    "print(y)\n",
    "print(z)"
   ]
  },
  {
   "cell_type": "markdown",
   "id": "50c64cc6-32d2-4e2d-982d-1b163abfe438",
   "metadata": {},
   "source": [
    "* Python Output Variables "
   ]
  },
  {
   "cell_type": "code",
   "execution_count": 30,
   "id": "10902f65-36e9-4225-b391-adabfb129ef5",
   "metadata": {},
   "outputs": [
    {
     "name": "stdout",
     "output_type": "stream",
     "text": [
      "python is awesome\n"
     ]
    }
   ],
   "source": [
    "x = \"python is awesome\"\n",
    "print(x)"
   ]
  },
  {
   "cell_type": "code",
   "execution_count": 32,
   "id": "64dea78d-eb97-4800-9cf7-cb3fe20ea09e",
   "metadata": {},
   "outputs": [
    {
     "name": "stdout",
     "output_type": "stream",
     "text": [
      "Python is awesome\n"
     ]
    }
   ],
   "source": [
    "x = \"Python\"\n",
    "y = \"is\"\n",
    "z = \"awesome\"\n",
    "print(x , y , z)"
   ]
  },
  {
   "cell_type": "code",
   "execution_count": 36,
   "id": "03a34967-c95f-409e-ad15-0440ca591fc2",
   "metadata": {},
   "outputs": [
    {
     "name": "stdout",
     "output_type": "stream",
     "text": [
      "Pythonisawesome\n"
     ]
    }
   ],
   "source": [
    "x = \"Python\"\n",
    "y = \"is\"\n",
    "z = \"awesome\"\n",
    "print(x + y + z)"
   ]
  },
  {
   "cell_type": "code",
   "execution_count": 38,
   "id": "30443ea0-0524-493e-89c3-1c5083192db2",
   "metadata": {},
   "outputs": [
    {
     "name": "stdout",
     "output_type": "stream",
     "text": [
      "25\n"
     ]
    }
   ],
   "source": [
    "x = 5\n",
    "y = 20\n",
    "print(x+y)"
   ]
  },
  {
   "cell_type": "code",
   "execution_count": 44,
   "id": "baa9ad43-168c-4086-b75f-fec557e19b32",
   "metadata": {},
   "outputs": [
    {
     "ename": "TypeError",
     "evalue": "unsupported operand type(s) for +: 'int' and 'str'",
     "output_type": "error",
     "traceback": [
      "\u001b[1;31m---------------------------------------------------------------------------\u001b[0m",
      "\u001b[1;31mTypeError\u001b[0m                                 Traceback (most recent call last)",
      "Cell \u001b[1;32mIn[44], line 3\u001b[0m\n\u001b[0;32m      1\u001b[0m x \u001b[38;5;241m=\u001b[39m \u001b[38;5;241m5\u001b[39m\n\u001b[0;32m      2\u001b[0m y \u001b[38;5;241m=\u001b[39m \u001b[38;5;124m\"\u001b[39m\u001b[38;5;124mJohn\u001b[39m\u001b[38;5;124m\"\u001b[39m\n\u001b[1;32m----> 3\u001b[0m \u001b[38;5;28mprint\u001b[39m(x\u001b[38;5;241m+\u001b[39my)\n",
      "\u001b[1;31mTypeError\u001b[0m: unsupported operand type(s) for +: 'int' and 'str'"
     ]
    }
   ],
   "source": [
    "x = 5\n",
    "y = \"John\"\n",
    "print(x+y)"
   ]
  },
  {
   "cell_type": "code",
   "execution_count": 46,
   "id": "6865df4b-fb6b-4c0f-8e50-8304e93d782d",
   "metadata": {},
   "outputs": [
    {
     "name": "stdout",
     "output_type": "stream",
     "text": [
      "5 John\n"
     ]
    }
   ],
   "source": [
    "x = 5\n",
    "y = \"John\"\n",
    "print(x,y)"
   ]
  },
  {
   "cell_type": "code",
   "execution_count": null,
   "id": "46509b4f-3703-4c15-9f22-a75914e002e7",
   "metadata": {},
   "outputs": [],
   "source": [
    "* Python Data Types \n",
    "Text Type:      str\n",
    "Numeric Types:  int , float , complex\n",
    "Sequence Types: list , tuple , range\n",
    "Mapping Type :  dict\n",
    "Set Types :     set , frozenset\n",
    "Boolean Types : bool\n",
    "Binary Types :  bytes , bytearray , memoryview\n",
    "None Types : None Type"
   ]
  },
  {
   "cell_type": "markdown",
   "id": "eee6ff60-dc99-411f-a007-c3a82007d54b",
   "metadata": {},
   "source": [
    "* Getting the data type"
   ]
  },
  {
   "cell_type": "code",
   "execution_count": 49,
   "id": "b5c77d97-e41b-41d6-a735-649840a311a5",
   "metadata": {},
   "outputs": [
    {
     "name": "stdout",
     "output_type": "stream",
     "text": [
      "<class 'int'>\n"
     ]
    }
   ],
   "source": [
    "x = 5\n",
    "print(type(x))"
   ]
  },
  {
   "cell_type": "markdown",
   "id": "1ef9c3e6-707d-4fc5-ab94-77c289942689",
   "metadata": {},
   "source": [
    "* Random number"
   ]
  },
  {
   "cell_type": "code",
   "execution_count": 67,
   "id": "4aab8cf1-c34c-407b-afae-76d37849516a",
   "metadata": {},
   "outputs": [
    {
     "name": "stdout",
     "output_type": "stream",
     "text": [
      "95\n"
     ]
    }
   ],
   "source": [
    "import random\n",
    "print(random.randrange(1 , 100))"
   ]
  },
  {
   "cell_type": "markdown",
   "id": "5446a936-6195-442a-9cab-52ed5984ce4e",
   "metadata": {},
   "source": [
    "* Strings :"
   ]
  },
  {
   "cell_type": "code",
   "execution_count": 70,
   "id": "de48d4be-6132-4773-8718-12264c7419d4",
   "metadata": {},
   "outputs": [
    {
     "name": "stdout",
     "output_type": "stream",
     "text": [
      "Hello\n",
      "Hello\n"
     ]
    }
   ],
   "source": [
    "print(\"Hello\")\n",
    "print('Hello')"
   ]
  },
  {
   "cell_type": "markdown",
   "id": "77a2acca-33a6-467a-9adb-a4600d956fa2",
   "metadata": {},
   "source": [
    "* Multiple Line strings:"
   ]
  },
  {
   "cell_type": "code",
   "execution_count": 79,
   "id": "52c2e221-827e-4d36-bb96-69383746e91c",
   "metadata": {},
   "outputs": [
    {
     "name": "stdout",
     "output_type": "stream",
     "text": [
      "my name is nikhil sharma,\n",
      "i am brilliant boy nd i am ,\n",
      "pursuing data science course , \n",
      "i love it so much.\n"
     ]
    }
   ],
   "source": [
    "a = \"\"\"my name is nikhil sharma,\n",
    "i am brilliant boy nd i am ,\n",
    "pursuing data science course , \n",
    "i love it so much.\"\"\"\n",
    "print(a)"
   ]
  },
  {
   "cell_type": "code",
   "execution_count": 81,
   "id": "158a95ee-ca41-4609-a200-bff3edfa0179",
   "metadata": {},
   "outputs": [
    {
     "name": "stdout",
     "output_type": "stream",
     "text": [
      "e\n"
     ]
    }
   ],
   "source": [
    "a = \"Hello , World!\"\n",
    "print(a[1])"
   ]
  },
  {
   "cell_type": "markdown",
   "id": "023b5c04-17c5-4b08-9fd4-6af70eb49bf2",
   "metadata": {},
   "source": [
    "* Looping through a string "
   ]
  },
  {
   "cell_type": "code",
   "execution_count": 84,
   "id": "f0555d3c-ad1e-41b5-8eac-1e2b32f4688c",
   "metadata": {},
   "outputs": [
    {
     "name": "stdout",
     "output_type": "stream",
     "text": [
      "b\n",
      "a\n",
      "n\n",
      "a\n",
      "n\n",
      "a\n"
     ]
    }
   ],
   "source": [
    "for x in \"banana\":\n",
    "    print(x)"
   ]
  },
  {
   "cell_type": "markdown",
   "id": "a0385d37-43e5-4db7-8477-468c069f06b6",
   "metadata": {},
   "source": [
    "* String length"
   ]
  },
  {
   "cell_type": "code",
   "execution_count": 89,
   "id": "9be80b71-a752-44b7-a3c5-bd5501a4d10e",
   "metadata": {},
   "outputs": [
    {
     "name": "stdout",
     "output_type": "stream",
     "text": [
      "12\n"
     ]
    }
   ],
   "source": [
    "a = \"Hello,World!\"\n",
    "print(len(a))"
   ]
  },
  {
   "cell_type": "markdown",
   "id": "f0277c5f-af6c-4f61-a5c3-c681a710d268",
   "metadata": {},
   "source": [
    "* Check string"
   ]
  },
  {
   "cell_type": "code",
   "execution_count": 92,
   "id": "ac5a4aa6-914f-4d62-91a5-c4127c4dd688",
   "metadata": {},
   "outputs": [
    {
     "name": "stdout",
     "output_type": "stream",
     "text": [
      "True\n"
     ]
    }
   ],
   "source": [
    "txt = \"The best things in life are free!\"\n",
    "print(\"free\" in txt)"
   ]
  },
  {
   "cell_type": "code",
   "execution_count": 109,
   "id": "94f57d65-a1b4-4528-af10-07b6eebf1e80",
   "metadata": {},
   "outputs": [
    {
     "name": "stdout",
     "output_type": "stream",
     "text": [
      "yes ,'free' is present\n"
     ]
    }
   ],
   "source": [
    "txt = \"The best things in life are free!\"\n",
    "if \"free\" in txt:\n",
    "    print(\"yes ,'free' is present\")"
   ]
  },
  {
   "cell_type": "markdown",
   "id": "d311a922-4043-483f-9051-dcaf94702f41",
   "metadata": {},
   "source": [
    "* Check if not"
   ]
  },
  {
   "cell_type": "code",
   "execution_count": 113,
   "id": "1f12f511-6861-4979-8590-a5d6e9564cb6",
   "metadata": {},
   "outputs": [
    {
     "name": "stdout",
     "output_type": "stream",
     "text": [
      "True\n"
     ]
    }
   ],
   "source": [
    "txt = \"the best things in life are free!\"\n",
    "print(\"expensive\" not in txt)"
   ]
  },
  {
   "cell_type": "code",
   "execution_count": 115,
   "id": "203a9301-e2ff-434f-a6f0-ceeeb43e5df4",
   "metadata": {},
   "outputs": [
    {
     "name": "stdout",
     "output_type": "stream",
     "text": [
      "no 'expensive' not in txt\n"
     ]
    }
   ],
   "source": [
    "txt = \"the best things in life are free!\"\n",
    "if \"expensive\" not in txt:\n",
    "    print(\"no 'expensive' not in txt\")"
   ]
  },
  {
   "cell_type": "markdown",
   "id": "9d2ffe28-86cc-459d-aba6-708b29a3145f",
   "metadata": {},
   "source": [
    "* Python Slicing strings"
   ]
  },
  {
   "cell_type": "code",
   "execution_count": 124,
   "id": "7661fa13-ff7c-48b5-88d3-98d24ead743b",
   "metadata": {},
   "outputs": [
    {
     "name": "stdout",
     "output_type": "stream",
     "text": [
      " Wor\n"
     ]
    }
   ],
   "source": [
    "a = \"Hello World\"\n",
    "print(a[5:9])"
   ]
  },
  {
   "cell_type": "markdown",
   "id": "fbdb2df4-d176-4372-9ca3-974e68307ef6",
   "metadata": {},
   "source": [
    "* Slice from the Start"
   ]
  },
  {
   "cell_type": "code",
   "execution_count": 127,
   "id": "e5287a16-f893-47d7-b70e-c52fe765c476",
   "metadata": {},
   "outputs": [
    {
     "name": "stdout",
     "output_type": "stream",
     "text": [
      "Hello\n"
     ]
    }
   ],
   "source": [
    "b = \"Hello World\"\n",
    "print(b[:5])"
   ]
  },
  {
   "cell_type": "markdown",
   "id": "a9c27322-ae52-4cc2-b392-7a4304cde0b4",
   "metadata": {},
   "source": [
    "* Slice to the end"
   ]
  },
  {
   "cell_type": "code",
   "execution_count": 134,
   "id": "603bafbe-e935-41f5-ab3f-fefa6638ae98",
   "metadata": {},
   "outputs": [
    {
     "name": "stdout",
     "output_type": "stream",
     "text": [
      "Hello , World!\n"
     ]
    }
   ],
   "source": [
    "b = \"Hello , World!\"\n",
    "print(b[0:])"
   ]
  },
  {
   "cell_type": "markdown",
   "id": "e5ccf2ec-2414-48de-a544-6e970ddd31ce",
   "metadata": {},
   "source": [
    "* Negative indexing "
   ]
  },
  {
   "cell_type": "code",
   "execution_count": 144,
   "id": "231b4f87-7609-47d3-8a1d-97f2b989371a",
   "metadata": {},
   "outputs": [
    {
     "name": "stdout",
     "output_type": "stream",
     "text": [
      "orl\n"
     ]
    }
   ],
   "source": [
    "b = \"Hello World!\"\n",
    "print(b[-5:-2])"
   ]
  },
  {
   "cell_type": "code",
   "execution_count": 152,
   "id": "cb87c0f0-fc55-4976-a765-1973e3d36af2",
   "metadata": {},
   "outputs": [
    {
     "name": "stdout",
     "output_type": "stream",
     "text": [
      "Hello\n"
     ]
    }
   ],
   "source": [
    "b = \"HelloWorld\"\n",
    "print(b[-10:-5])"
   ]
  },
  {
   "cell_type": "markdown",
   "id": "68fb89cc-948a-46c9-9087-e1664c1e0496",
   "metadata": {},
   "source": [
    "* Python Modify Strings"
   ]
  },
  {
   "cell_type": "code",
   "execution_count": 155,
   "id": "6a5622bc-e458-40f0-a2d9-f1d390725f6f",
   "metadata": {},
   "outputs": [
    {
     "name": "stdout",
     "output_type": "stream",
     "text": [
      "HELLO,WORLD!\n"
     ]
    }
   ],
   "source": [
    "# Upper case\n",
    "a = \"Hello,World!\"\n",
    "print(a.upper())"
   ]
  },
  {
   "cell_type": "code",
   "execution_count": 157,
   "id": "89f1ebe4-7eec-4671-80ac-d1edc64b633b",
   "metadata": {},
   "outputs": [
    {
     "name": "stdout",
     "output_type": "stream",
     "text": [
      "hello,world!\n"
     ]
    }
   ],
   "source": [
    "# Lower case\n",
    "a = \"Hello,World!\"\n",
    "print(a.lower())"
   ]
  },
  {
   "cell_type": "markdown",
   "id": "ba4da339-a76c-4bc1-a3f2-4e946d947e8a",
   "metadata": {},
   "source": [
    "* Remove Whitespace"
   ]
  },
  {
   "cell_type": "code",
   "execution_count": 172,
   "id": "9285a754-e34b-47f9-8788-44e8cefe237f",
   "metadata": {},
   "outputs": [
    {
     "name": "stdout",
     "output_type": "stream",
     "text": [
      "Hello,World!\n"
     ]
    }
   ],
   "source": [
    "a = \"   Hello,World!\"\n",
    "print(a.strip())"
   ]
  },
  {
   "cell_type": "markdown",
   "id": "7578b4f9-66cd-4f93-899d-c2a0a49095f8",
   "metadata": {},
   "source": [
    "* Replace String"
   ]
  },
  {
   "cell_type": "code",
   "execution_count": 175,
   "id": "476d78eb-3199-4bfc-8cb5-2693b0d0c10f",
   "metadata": {},
   "outputs": [
    {
     "name": "stdout",
     "output_type": "stream",
     "text": [
      "Hello,Lorld!\n"
     ]
    }
   ],
   "source": [
    "a = \"Hello,World!\"\n",
    "print(a.replace(\"W\" , \"L\"))"
   ]
  },
  {
   "cell_type": "markdown",
   "id": "8777a56c-7e81-4e9b-9f53-2463f3ccd95f",
   "metadata": {},
   "source": [
    "* Split String"
   ]
  },
  {
   "cell_type": "code",
   "execution_count": 180,
   "id": "943259f8-1801-44ff-9931-5a659e0cfb33",
   "metadata": {},
   "outputs": [
    {
     "name": "stdout",
     "output_type": "stream",
     "text": [
      "['Hello', 'World!']\n"
     ]
    }
   ],
   "source": [
    "a = \"Hello,World!\"\n",
    "print(a.split(\",\"))"
   ]
  },
  {
   "cell_type": "code",
   "execution_count": 182,
   "id": "192f89d4-862c-45ba-a9bd-75ecf33e1061",
   "metadata": {},
   "outputs": [
    {
     "name": "stdin",
     "output_type": "stream",
     "text": [
      "enter the numbers =  23,34,54,65\n"
     ]
    },
    {
     "name": "stdout",
     "output_type": "stream",
     "text": [
      "['23', '34', '54', '65']\n"
     ]
    }
   ],
   "source": [
    "a = input(\"enter the numbers = \")\n",
    "print(a.split(\",\"))"
   ]
  },
  {
   "cell_type": "markdown",
   "id": "427f95e6-5b78-4618-a02c-fb5ba59ef1c8",
   "metadata": {},
   "source": [
    "* Python String concatenatior"
   ]
  },
  {
   "cell_type": "code",
   "execution_count": 189,
   "id": "facfe547-a64f-439e-9acb-8db482e8eed3",
   "metadata": {},
   "outputs": [
    {
     "name": "stdout",
     "output_type": "stream",
     "text": [
      "HelloWorld\n"
     ]
    }
   ],
   "source": [
    "a = \"Hello\"\n",
    "b = \"World\"\n",
    "c = a + b\n",
    "print(c)"
   ]
  },
  {
   "cell_type": "code",
   "execution_count": 193,
   "id": "856388be-904f-4cb1-9934-1a633ac6ad0d",
   "metadata": {},
   "outputs": [
    {
     "name": "stdout",
     "output_type": "stream",
     "text": [
      "Hello World\n"
     ]
    }
   ],
   "source": [
    "a = \"Hello\"\n",
    "b = \"World\"\n",
    "c = a + \" \" + b\n",
    "print(c)"
   ]
  },
  {
   "cell_type": "markdown",
   "id": "cf49f338-134d-4e67-8cfd-d5ece6765258",
   "metadata": {},
   "source": [
    "* Python Format Strings"
   ]
  },
  {
   "cell_type": "code",
   "execution_count": 200,
   "id": "d69cd156-6d76-46fc-88f5-f5ca57803054",
   "metadata": {},
   "outputs": [
    {
     "ename": "TypeError",
     "evalue": "can only concatenate str (not \"int\") to str",
     "output_type": "error",
     "traceback": [
      "\u001b[1;31m---------------------------------------------------------------------------\u001b[0m",
      "\u001b[1;31mTypeError\u001b[0m                                 Traceback (most recent call last)",
      "Cell \u001b[1;32mIn[200], line 2\u001b[0m\n\u001b[0;32m      1\u001b[0m age \u001b[38;5;241m=\u001b[39m \u001b[38;5;241m36\u001b[39m\n\u001b[1;32m----> 2\u001b[0m txt \u001b[38;5;241m=\u001b[39m \u001b[38;5;124m\"\u001b[39m\u001b[38;5;124mmy name is john , I am \u001b[39m\u001b[38;5;124m\"\u001b[39m \u001b[38;5;241m+\u001b[39m age\n",
      "\u001b[1;31mTypeError\u001b[0m: can only concatenate str (not \"int\") to str"
     ]
    }
   ],
   "source": [
    "age = 36\n",
    "txt = \"my name is john , I am \" + age"
   ]
  },
  {
   "cell_type": "markdown",
   "id": "3666aba7-43d0-4785-89f0-6b904200566a",
   "metadata": {},
   "source": [
    "* F-strings"
   ]
  },
  {
   "cell_type": "code",
   "execution_count": 204,
   "id": "8832ec94-7e85-4350-a054-da60ba89ffe4",
   "metadata": {},
   "outputs": [
    {
     "name": "stdout",
     "output_type": "stream",
     "text": [
      "my name is john , i am 36\n"
     ]
    }
   ],
   "source": [
    "age = 36\n",
    "txt = f\"my name is john , i am {age}\"\n",
    "print(txt)"
   ]
  },
  {
   "cell_type": "markdown",
   "id": "6edf0b22-784c-431f-ac9a-c77e06c463f5",
   "metadata": {},
   "source": [
    "* Placeholders and Modifiers"
   ]
  },
  {
   "cell_type": "code",
   "execution_count": 207,
   "id": "39cc1555-68a3-4164-ad4d-55723dd2c59c",
   "metadata": {},
   "outputs": [
    {
     "name": "stdout",
     "output_type": "stream",
     "text": [
      "The price is 59 dollars\n"
     ]
    }
   ],
   "source": [
    "price = 59\n",
    "txt = f\"The price is {price} dollars\"\n",
    "print(txt)"
   ]
  },
  {
   "cell_type": "raw",
   "id": "709f9451-a2b9-41ca-94d4-9180a02aa382",
   "metadata": {},
   "source": [
    "Display the price with 2 decimals :"
   ]
  },
  {
   "cell_type": "code",
   "execution_count": 211,
   "id": "8005da65-d50f-42e2-b8bf-baf2a2ff2b00",
   "metadata": {},
   "outputs": [
    {
     "name": "stdout",
     "output_type": "stream",
     "text": [
      "The price is  59.000 dollars\n"
     ]
    }
   ],
   "source": [
    "price = 59\n",
    "txt = f\"The price is {price: .3f} dollars\"\n",
    "print(txt)"
   ]
  },
  {
   "cell_type": "raw",
   "id": "f409bab6-6f73-4e53-b863-f5f099173c32",
   "metadata": {},
   "source": [
    "Perform a math operation in the placeholders and return the result:"
   ]
  },
  {
   "cell_type": "code",
   "execution_count": 213,
   "id": "d98884c3-0bad-4bda-910e-e5b607346232",
   "metadata": {},
   "outputs": [
    {
     "name": "stdout",
     "output_type": "stream",
     "text": [
      "the price is 1357 dollars\n"
     ]
    }
   ],
   "source": [
    "price = 59\n",
    "txt = f\"the price is {price * 23} dollars\"\n",
    "print(txt)"
   ]
  },
  {
   "cell_type": "markdown",
   "id": "66d5cb66-a1b8-4701-a8fb-edffd9781c56",
   "metadata": {},
   "source": [
    "* Python-Escape characters"
   ]
  },
  {
   "cell_type": "code",
   "execution_count": 220,
   "id": "f5179e46-9d31-49b6-b1b6-858d74989a6b",
   "metadata": {},
   "outputs": [
    {
     "ename": "SyntaxError",
     "evalue": "invalid syntax (4013392309.py, line 1)",
     "output_type": "error",
     "traceback": [
      "\u001b[1;36m  Cell \u001b[1;32mIn[220], line 1\u001b[1;36m\u001b[0m\n\u001b[1;33m    txt = \"We are the so-called \"Vikings\" from the north.\"\u001b[0m\n\u001b[1;37m                                 ^\u001b[0m\n\u001b[1;31mSyntaxError\u001b[0m\u001b[1;31m:\u001b[0m invalid syntax\n"
     ]
    }
   ],
   "source": [
    "txt = \"We are the so-called \"Vikings\" from the north.\"\n",
    "print(txt)"
   ]
  },
  {
   "cell_type": "raw",
   "id": "708644b8-7a4a-44c5-84d4-ffeecab274f7",
   "metadata": {},
   "source": [
    "to fix this problem , use the escape character \\\":"
   ]
  },
  {
   "cell_type": "code",
   "execution_count": 228,
   "id": "81e6d831-c2a9-4b72-86e7-64202e416585",
   "metadata": {},
   "outputs": [
    {
     "name": "stdout",
     "output_type": "stream",
     "text": [
      "We are the so called \"Vikings\"  from the north\n"
     ]
    }
   ],
   "source": [
    "txt = \"We are the so called \\\"Vikings\\\"  from the north\"\n",
    "print(txt)"
   ]
  },
  {
   "cell_type": "code",
   "execution_count": null,
   "id": "eda527be-223d-4dc8-9418-08c815ca9f68",
   "metadata": {},
   "outputs": [],
   "source": [
    "* Escape Characters:\n",
    "(Code)          (Result)\n",
    "\\'            single Quote\n",
    "\\\\            Backslash\n",
    "\\n            New Line\n",
    "\\r            Carriage Return\n",
    "\\t            Tab\n",
    "\\b            Backspace\n",
    "\\f            Form feed\n",
    "\\000         Octal Value\n",
    "\\xhh          Hex Value"
   ]
  },
  {
   "cell_type": "code",
   "execution_count": 232,
   "id": "97ffe44c-a018-4d53-b24e-c891d213503f",
   "metadata": {},
   "outputs": [
    {
     "name": "stdout",
     "output_type": "stream",
     "text": [
      "It's alright.\n"
     ]
    }
   ],
   "source": [
    "txt = \"It\\'s alright.\"\n",
    "print(txt)"
   ]
  },
  {
   "cell_type": "code",
   "execution_count": 238,
   "id": "08c54b80-6207-4015-8523-a16c80a23729",
   "metadata": {},
   "outputs": [
    {
     "name": "stdout",
     "output_type": "stream",
     "text": [
      "my name is nikhil\\sharma\n"
     ]
    }
   ],
   "source": [
    "txt = \"my name is nikhil\\\\sharma\"\n",
    "print(txt)"
   ]
  },
  {
   "cell_type": "code",
   "execution_count": 244,
   "id": "b1971b4e-51af-4581-a552-786a8274b14e",
   "metadata": {},
   "outputs": [
    {
     "name": "stdout",
     "output_type": "stream",
     "text": [
      "Hello\n",
      "World\n"
     ]
    }
   ],
   "source": [
    "txt = \"Hello\\nWorld\"\n",
    "print(txt)"
   ]
  },
  {
   "cell_type": "code",
   "execution_count": 246,
   "id": "ae00beba-6938-4534-b0c3-befc1e9c4474",
   "metadata": {},
   "outputs": [
    {
     "name": "stdout",
     "output_type": "stream",
     "text": [
      "World\n"
     ]
    }
   ],
   "source": [
    "txt = \"Hello\\rWorld\"\n",
    "print(txt)"
   ]
  },
  {
   "cell_type": "code",
   "execution_count": 264,
   "id": "4d6cb85e-28e9-470b-b98e-7d5060156b89",
   "metadata": {},
   "outputs": [
    {
     "name": "stdout",
     "output_type": "stream",
     "text": [
      "Ankul\n"
     ]
    }
   ],
   "source": [
    "txt = \"chut\\rAnkul\"\n",
    "print(txt)"
   ]
  },
  {
   "cell_type": "code",
   "execution_count": 272,
   "id": "0550bd5b-ed83-48f3-b50e-ec5f013ccdef",
   "metadata": {},
   "outputs": [
    {
     "name": "stdout",
     "output_type": "stream",
     "text": [
      "my name is \t nikhil sharma\n"
     ]
    }
   ],
   "source": [
    "txt = \"my name is \\t nikhil sharma\"\n",
    "print(txt)"
   ]
  },
  {
   "cell_type": "code",
   "execution_count": 280,
   "id": "ef1023a4-bae1-4823-a5bc-3122cd769391",
   "metadata": {},
   "outputs": [
    {
     "name": "stdout",
     "output_type": "stream",
     "text": [
      "my name is nikhil sharma\n"
     ]
    }
   ],
   "source": [
    "txt = \"my name is \\b nikhil sharma\"\n",
    "print(txt)"
   ]
  },
  {
   "cell_type": "code",
   "execution_count": 302,
   "id": "5510f5b1-9a8c-465b-af45-31658a3e788e",
   "metadata": {},
   "outputs": [
    {
     "name": "stdout",
     "output_type": "stream",
     "text": [
      "my name is \f",
      " nikhil sharma\n"
     ]
    }
   ],
   "source": [
    "txt = \"my name is \\f nikhil sharma\"\n",
    "print(txt)"
   ]
  },
  {
   "cell_type": "code",
   "execution_count": 308,
   "id": "e93e8e1d-8c05-4355-9e9d-bd0c28beafc8",
   "metadata": {},
   "outputs": [
    {
     "name": "stdout",
     "output_type": "stream",
     "text": [
      "Hello\n"
     ]
    }
   ],
   "source": [
    "txt = \"\\110\\145\\154\\154\\157\"\n",
    "print(txt)"
   ]
  },
  {
   "cell_type": "code",
   "execution_count": 316,
   "id": "c6dd00f5-ab9a-4c28-87b9-e48e0d55a428",
   "metadata": {},
   "outputs": [
    {
     "name": "stdout",
     "output_type": "stream",
     "text": [
      "Hello\n"
     ]
    }
   ],
   "source": [
    "txt = \"\\x48\\x65\\x6c\\x6c\\x6f\"\n",
    "print(txt)"
   ]
  },
  {
   "cell_type": "markdown",
   "id": "c8e10d16-7df8-4b2a-bbc4-b2faf5603d5b",
   "metadata": {},
   "source": [
    "* Python Booleans"
   ]
  },
  {
   "cell_type": "code",
   "execution_count": 319,
   "id": "fa8dc6c3-4565-4e6e-8af6-a5b228cf8b22",
   "metadata": {},
   "outputs": [
    {
     "name": "stdout",
     "output_type": "stream",
     "text": [
      "True\n",
      "False\n",
      "False\n"
     ]
    }
   ],
   "source": [
    "print(10>9)\n",
    "print(10==9)\n",
    "print(10<9)"
   ]
  },
  {
   "cell_type": "code",
   "execution_count": 321,
   "id": "a0bb415b-d323-4e1a-bdb5-369d284b4b8a",
   "metadata": {},
   "outputs": [
    {
     "name": "stdout",
     "output_type": "stream",
     "text": [
      "b is not greater then a\n"
     ]
    }
   ],
   "source": [
    "a = 200\n",
    "b = 33\n",
    "if b > a:\n",
    "    print(\"b is greater then a\")\n",
    "else:\n",
    "    print(\"b is not greater then a\")"
   ]
  },
  {
   "cell_type": "markdown",
   "id": "1877bf91-942f-4338-8c5b-ae0604609bff",
   "metadata": {},
   "source": [
    "* Evaluate values and variables"
   ]
  },
  {
   "cell_type": "code",
   "execution_count": 324,
   "id": "036d92a1-4b82-4071-8652-437e76892aea",
   "metadata": {},
   "outputs": [
    {
     "name": "stdout",
     "output_type": "stream",
     "text": [
      "True\n",
      "True\n"
     ]
    }
   ],
   "source": [
    "print(bool('hello'))\n",
    "print(bool(15))"
   ]
  },
  {
   "cell_type": "code",
   "execution_count": 330,
   "id": "0de58ddc-c8c8-400f-b852-10af268705c2",
   "metadata": {},
   "outputs": [
    {
     "name": "stdout",
     "output_type": "stream",
     "text": [
      "True\n",
      "True\n"
     ]
    }
   ],
   "source": [
    "x = \"Hello\"\n",
    "y = 15\n",
    "print(bool(x))\n",
    "print(bool(y))"
   ]
  },
  {
   "cell_type": "code",
   "execution_count": 340,
   "id": "58b7482e-84ea-4264-8f78-b0559a4a9a74",
   "metadata": {},
   "outputs": [
    {
     "data": {
      "text/plain": [
       "True"
      ]
     },
     "execution_count": 340,
     "metadata": {},
     "output_type": "execute_result"
    }
   ],
   "source": [
    "bool(\"abc\")\n",
    "bool(123)\n",
    "bool([\"apple\" , \"cherry\" , \"banana\"])"
   ]
  },
  {
   "cell_type": "code",
   "execution_count": 342,
   "id": "695d5285-c8c4-44dc-9931-582510545f83",
   "metadata": {},
   "outputs": [
    {
     "data": {
      "text/plain": [
       "False"
      ]
     },
     "execution_count": 342,
     "metadata": {},
     "output_type": "execute_result"
    }
   ],
   "source": [
    "bool(False)\n",
    "bool(None)\n",
    "bool(0)\n",
    "bool(\" \")\n",
    "bool(())\n",
    "bool([])\n",
    "bool({})"
   ]
  },
  {
   "cell_type": "markdown",
   "id": "ba21648b-b8a8-4fbd-8663-3f776bdc6616",
   "metadata": {},
   "source": [
    "# Python Lists"
   ]
  },
  {
   "cell_type": "code",
   "execution_count": 2,
   "id": "a602abe5-cfe8-4cfe-870d-cfcc659ed1da",
   "metadata": {},
   "outputs": [
    {
     "name": "stdout",
     "output_type": "stream",
     "text": [
      "['apple', 'banana', 'Cherry']\n"
     ]
    }
   ],
   "source": [
    "mylist = [\"apple\" , \"banana\" , \"Cherry\"]\n",
    "print(mylist)"
   ]
  },
  {
   "cell_type": "markdown",
   "id": "ce5ba84d-9bb0-49e7-9af3-6ec56ad24689",
   "metadata": {},
   "source": [
    "* Allow Duplicates"
   ]
  },
  {
   "cell_type": "code",
   "execution_count": 5,
   "id": "809a7eea-6aff-4c5d-b610-887d707e3e7e",
   "metadata": {},
   "outputs": [
    {
     "name": "stdout",
     "output_type": "stream",
     "text": [
      "['apple', 'banana', 'cherry', 'apple', 'cherry']\n"
     ]
    }
   ],
   "source": [
    "thislist = [\"apple\" , \"banana\" , \"cherry\" , \"apple\" , \"cherry\"]\n",
    "print(thislist)"
   ]
  },
  {
   "cell_type": "markdown",
   "id": "b6953ccf-cec7-49b4-aee3-b04d706253e2",
   "metadata": {},
   "source": [
    "* List Length"
   ]
  },
  {
   "cell_type": "code",
   "execution_count": 8,
   "id": "66e5c212-4c46-4a35-bdfd-4005772d59b0",
   "metadata": {},
   "outputs": [
    {
     "name": "stdout",
     "output_type": "stream",
     "text": [
      "3\n"
     ]
    }
   ],
   "source": [
    "thislist = [\"apple\" , \"banana\" , \"cherry\"]\n",
    "print(len(thislist))"
   ]
  },
  {
   "cell_type": "markdown",
   "id": "02dd856e-9e76-41a7-b56c-36979626da6c",
   "metadata": {},
   "source": [
    "* List Items - Data types"
   ]
  },
  {
   "cell_type": "code",
   "execution_count": 15,
   "id": "0fdf770f-4e3e-44b2-8e99-f6d4bf918d96",
   "metadata": {},
   "outputs": [],
   "source": [
    "# list items can be of any data type\n",
    "list1 = [\"apple\" , \"banana\" , \"cherry\"]\n",
    "list2 = [1 , 5 ,7 , 9, 3]\n",
    "list3 = [True , False , False]"
   ]
  },
  {
   "cell_type": "code",
   "execution_count": 17,
   "id": "f933a12e-89e8-4dd8-87b4-40f5374ec253",
   "metadata": {},
   "outputs": [],
   "source": [
    "# A list with string integer and boolean values\n",
    "list1 = [\"abc\" , 34 , True , 40 , \"male\"]"
   ]
  },
  {
   "cell_type": "markdown",
   "id": "2aa5ebb2-af4d-4442-8406-4e6118d28085",
   "metadata": {},
   "source": [
    "* Type"
   ]
  },
  {
   "cell_type": "code",
   "execution_count": 20,
   "id": "5a0b4dc1-1d99-42a2-afa6-84bdb8b7ec1e",
   "metadata": {},
   "outputs": [
    {
     "name": "stdout",
     "output_type": "stream",
     "text": [
      "<class 'list'>\n"
     ]
    }
   ],
   "source": [
    "mylist = [\"apple\" , \"banana\" , \"cherry\"]\n",
    "print(type(mylist))"
   ]
  },
  {
   "cell_type": "markdown",
   "id": "21281b75-b36c-4660-8364-666b9c906484",
   "metadata": {},
   "source": [
    "* The List constructor"
   ]
  },
  {
   "cell_type": "code",
   "execution_count": 23,
   "id": "f08bd879-5222-4de5-acdd-74176751401e",
   "metadata": {},
   "outputs": [
    {
     "name": "stdout",
     "output_type": "stream",
     "text": [
      "['apple', 'banana', 'cherry']\n"
     ]
    }
   ],
   "source": [
    "thislist = list((\"apple\" , \"banana\" , \"cherry\"))\n",
    "print(thislist)"
   ]
  },
  {
   "cell_type": "markdown",
   "id": "b11747bd-38db-4fad-828d-70636077f092",
   "metadata": {},
   "source": [
    "# Python Access List items"
   ]
  },
  {
   "cell_type": "code",
   "execution_count": 29,
   "id": "01a7e6ff-0687-4e7f-a293-69b5951ceee0",
   "metadata": {},
   "outputs": [
    {
     "name": "stdout",
     "output_type": "stream",
     "text": [
      "banana\n"
     ]
    }
   ],
   "source": [
    "thislist = [\"apple\" , \"banana\" , \"cherry\"]\n",
    "print(thislist[1])"
   ]
  },
  {
   "cell_type": "markdown",
   "id": "e1c64c2a-356a-40cb-9710-b101c8f9e961",
   "metadata": {},
   "source": [
    "* Negative Indexing"
   ]
  },
  {
   "cell_type": "code",
   "execution_count": 32,
   "id": "99a9b655-4066-40ad-a732-e7a99d9921d4",
   "metadata": {},
   "outputs": [
    {
     "name": "stdout",
     "output_type": "stream",
     "text": [
      "cherry\n"
     ]
    }
   ],
   "source": [
    "thislist = [\"apple\" , \"banana\" , \"cherry\"]\n",
    "print(thislist[-1])"
   ]
  },
  {
   "cell_type": "markdown",
   "id": "9bd54221-6d2b-47d2-8379-068e9cdf298e",
   "metadata": {},
   "source": [
    "* Range of Indexes"
   ]
  },
  {
   "cell_type": "code",
   "execution_count": 35,
   "id": "cc0a87b3-0d89-421d-99c5-3d578ff2b5c9",
   "metadata": {},
   "outputs": [
    {
     "name": "stdout",
     "output_type": "stream",
     "text": [
      "['cherry', 'Orange', 'Kiwi']\n"
     ]
    }
   ],
   "source": [
    "thislist = [\"apple\" , \"banana\" , \"cherry\" , \"Orange\" , \"Kiwi\" , \"melon\"]\n",
    "print(thislist[2:5])"
   ]
  },
  {
   "cell_type": "code",
   "execution_count": 37,
   "id": "df098209-859c-4261-a5db-38baa27f0c12",
   "metadata": {},
   "outputs": [
    {
     "name": "stdout",
     "output_type": "stream",
     "text": [
      "['apple', 'banana', 'cherry', 'Orange']\n"
     ]
    }
   ],
   "source": [
    "thislist = [\"apple\" , \"banana\" , \"cherry\" , \"Orange\" , \"Kiwi\" , \"melon\"]\n",
    "print(thislist[:4])"
   ]
  },
  {
   "cell_type": "code",
   "execution_count": 45,
   "id": "20e56a9e-b27e-4ec7-a9e0-2a0e69ae11f8",
   "metadata": {},
   "outputs": [
    {
     "name": "stdout",
     "output_type": "stream",
     "text": [
      "['cherry', 'Orange', 'Kiwi', 'melon']\n"
     ]
    }
   ],
   "source": [
    "thislist = [\"apple\" , \"banana\" , \"cherry\" , \"Orange\" , \"Kiwi\" , \"melon\"]\n",
    "print(thislist[2:])"
   ]
  },
  {
   "cell_type": "markdown",
   "id": "a3753b9a-f669-4474-8afb-d401b72d2c27",
   "metadata": {},
   "source": [
    "* Range of negative indexes"
   ]
  },
  {
   "cell_type": "code",
   "execution_count": 48,
   "id": "6e1757e0-5f09-4071-9e71-db3669a961dd",
   "metadata": {},
   "outputs": [
    {
     "name": "stdout",
     "output_type": "stream",
     "text": [
      "['cherry', 'Orange', 'Kiwi']\n"
     ]
    }
   ],
   "source": [
    "thislist = [\"apple\" , \"banana\" , \"cherry\" , \"Orange\" , \"Kiwi\" , \"melon\"]\n",
    "print(thislist[-4:-1])"
   ]
  },
  {
   "cell_type": "markdown",
   "id": "386fb277-a51f-4efd-8b8f-5bd1a8b98f07",
   "metadata": {},
   "source": [
    "*  Check if item exists"
   ]
  },
  {
   "cell_type": "code",
   "execution_count": 55,
   "id": "f1e5a490-db5c-4fd7-9013-43bcbd0db297",
   "metadata": {},
   "outputs": [
    {
     "name": "stdout",
     "output_type": "stream",
     "text": [
      "yes , 'apple' is in the fruits list\n"
     ]
    }
   ],
   "source": [
    "thislist = [\"apple\" , \"banana\" , \"cherry\"]\n",
    "if \"apple\" in thislist:\n",
    "    print(\"yes , 'apple' is in the fruits list\")"
   ]
  },
  {
   "cell_type": "markdown",
   "id": "98a83f3f-32af-443b-8062-e8dcf39760ea",
   "metadata": {},
   "source": [
    "* Python Change List Items "
   ]
  },
  {
   "cell_type": "code",
   "execution_count": 58,
   "id": "6b2b1da9-8b63-4abc-9f4a-a2d62a1feef8",
   "metadata": {},
   "outputs": [
    {
     "name": "stdout",
     "output_type": "stream",
     "text": [
      "['apple', 'blackcurrant', 'cherry']\n"
     ]
    }
   ],
   "source": [
    "thislist = [\"apple\" , \"banana\" , \"cherry\"]\n",
    "thislist[1] = \"blackcurrant\"\n",
    "print(thislist)"
   ]
  },
  {
   "cell_type": "code",
   "execution_count": 60,
   "id": "581847c7-8f27-44cc-b87e-c38bceb2f2b6",
   "metadata": {},
   "outputs": [
    {
     "name": "stdout",
     "output_type": "stream",
     "text": [
      "['apple', 'blackcurrant', 'lemon']\n"
     ]
    }
   ],
   "source": [
    "thislist[2] = \"lemon\"\n",
    "print(thislist)"
   ]
  },
  {
   "cell_type": "markdown",
   "id": "8e29ed14-845e-4455-ad99-b9776987531e",
   "metadata": {},
   "source": [
    "* Change a Range of Item Values"
   ]
  },
  {
   "cell_type": "code",
   "execution_count": 63,
   "id": "e23f2ca2-e9ef-4e3c-ae12-373d69938901",
   "metadata": {},
   "outputs": [
    {
     "name": "stdout",
     "output_type": "stream",
     "text": [
      "['apple', 'blackcurrant', 'watermelon', 'Orange', 'Kiwi', 'melon']\n"
     ]
    }
   ],
   "source": [
    "thislist = [\"apple\" , \"banana\" , \"cherry\" , \"Orange\" , \"Kiwi\" , \"melon\"]\n",
    "thislist[1:3]= [\"blackcurrant\" , \"watermelon\"]\n",
    "print(thislist)"
   ]
  },
  {
   "cell_type": "code",
   "execution_count": 79,
   "id": "cb39b9e6-2d3f-4b91-afbf-c2e569b61277",
   "metadata": {},
   "outputs": [
    {
     "name": "stdout",
     "output_type": "stream",
     "text": [
      "['apple', 'onion', 'pumkin', 'cherry']\n"
     ]
    }
   ],
   "source": [
    "# change the second value by replacing it with two new values:\n",
    "thislist = [\"apple\" , \"banana\" , \"cherry\"]\n",
    "thislist[1:2] = [\"onion\" , \"pumkin\"]\n",
    "print(thislist)"
   ]
  },
  {
   "cell_type": "code",
   "execution_count": 67,
   "id": "476d7f98-8d8e-4d99-b90e-0c9653c43b93",
   "metadata": {},
   "outputs": [
    {
     "name": "stdout",
     "output_type": "stream",
     "text": [
      "['apple', 'papaya']\n"
     ]
    }
   ],
   "source": [
    "# change the second and third value by replacing it with one value :\n",
    "thislist = [\"apple\" , \"banana\" , \"cherry\"]\n",
    "thislist[1:3] = [\"papaya\"]\n",
    "print(thislist)"
   ]
  },
  {
   "cell_type": "code",
   "execution_count": 77,
   "id": "1dca2fb2-7817-4bc2-ad68-3665ec207aec",
   "metadata": {},
   "outputs": [
    {
     "name": "stdout",
     "output_type": "stream",
     "text": [
      "['apple', 'banana', 'watermelon', 'cherry']\n"
     ]
    }
   ],
   "source": [
    "# Insert wartermelon as the third item:\n",
    "thislist = [\"apple\" , \"banana\" , \"cherry\"]\n",
    "thislist.insert(2 , \"watermelon\")\n",
    "print(thislist)"
   ]
  },
  {
   "cell_type": "markdown",
   "id": "ee9c225f-d0b6-4db6-882c-bf24f9048705",
   "metadata": {},
   "source": [
    "* Extend list"
   ]
  },
  {
   "cell_type": "code",
   "execution_count": 81,
   "id": "64584054-2453-4f09-bbfb-23b75e2c3513",
   "metadata": {},
   "outputs": [
    {
     "name": "stdout",
     "output_type": "stream",
     "text": [
      "['apple', 'banana', 'cherry', 'kiwi', 'orange']\n"
     ]
    }
   ],
   "source": [
    "thislist = [\"apple\" , \"banana\" , \"cherry\"]\n",
    "thistuple = (\"kiwi\" , \"orange\")\n",
    "thislist.extend(thistuple)\n",
    "print(thislist)"
   ]
  },
  {
   "cell_type": "markdown",
   "id": "6fa57b71-b3e4-46e5-abba-6fb1e533286a",
   "metadata": {},
   "source": [
    "* Python Loop lists"
   ]
  },
  {
   "cell_type": "code",
   "execution_count": 85,
   "id": "11857933-851b-4854-9f8b-b51cf5432d5c",
   "metadata": {},
   "outputs": [
    {
     "name": "stdout",
     "output_type": "stream",
     "text": [
      "apple\n",
      "banana\n",
      "cherry\n"
     ]
    }
   ],
   "source": [
    "thislist = [\"apple\" , \"banana\" , \"cherry\"]\n",
    "for x in thislist:\n",
    "    print(x)"
   ]
  },
  {
   "cell_type": "markdown",
   "id": "833e3416-6708-422e-ae70-96f0f4b3e4bb",
   "metadata": {},
   "source": [
    "* Loop through the index numbers"
   ]
  },
  {
   "cell_type": "code",
   "execution_count": 97,
   "id": "47b5bb97-231c-4b33-9fac-4eebf5ae9d37",
   "metadata": {},
   "outputs": [
    {
     "name": "stdout",
     "output_type": "stream",
     "text": [
      "apple\n",
      "banana\n",
      "cherry\n"
     ]
    }
   ],
   "source": [
    "# print all items by referring to their index numbers :\n",
    "thislist = [\"apple\" , \"banana\" , \"cherry\"]\n",
    "for i in range(len(thislist)):\n",
    "    print(thislist[i])"
   ]
  },
  {
   "cell_type": "markdown",
   "id": "8b2027f7-5419-44c9-8b3c-8c71d1f89192",
   "metadata": {},
   "source": [
    "* Using a While Loop"
   ]
  },
  {
   "cell_type": "code",
   "execution_count": 99,
   "id": "73d7c67b-cb3d-4bd3-bb37-c8d064190e6c",
   "metadata": {},
   "outputs": [
    {
     "name": "stdout",
     "output_type": "stream",
     "text": [
      "apple\n",
      "banana\n",
      "cherry\n"
     ]
    }
   ],
   "source": [
    "# print all items , using a while loop to go through the index numbers:\n",
    "thislist = [\"apple\" , \"banana\" , \"cherry\"]\n",
    "i = 0\n",
    "while i < len(thislist):\n",
    "    print(thislist[i])\n",
    "    i = i+1"
   ]
  },
  {
   "cell_type": "markdown",
   "id": "5b108484-fabc-40b8-8d95-2a76279dec04",
   "metadata": {},
   "source": [
    "* Looping through list comprehension"
   ]
  },
  {
   "cell_type": "code",
   "execution_count": 1,
   "id": "764ac261-6e8a-40d6-98c2-240414c3bf27",
   "metadata": {},
   "outputs": [
    {
     "name": "stdout",
     "output_type": "stream",
     "text": [
      "apple\n",
      "banana\n",
      "cherry\n",
      "[None, None, None]\n"
     ]
    }
   ],
   "source": [
    "thislist = [\"apple\" , \"banana\" , \"cherry\"]\n",
    "newlist = [print (x) for x in thislist]\n",
    "print(newlist)"
   ]
  },
  {
   "cell_type": "markdown",
   "id": "2e7afe80-4b88-45be-9ff5-464c6e3f391c",
   "metadata": {},
   "source": [
    "* Python sort lists"
   ]
  },
  {
   "cell_type": "code",
   "execution_count": 8,
   "id": "25e82782-fd08-4851-9d48-a7edc864a79f",
   "metadata": {},
   "outputs": [
    {
     "name": "stdout",
     "output_type": "stream",
     "text": [
      "['banana', 'kiwi', 'mango', 'ornage', 'pineapple']\n"
     ]
    }
   ],
   "source": [
    "# Sort the list alphabetically:\n",
    "thislist = [\"ornage\" , \"mango\" , \"kiwi\" , \"pineapple\" , \"banana\"]\n",
    "thislist.sort()\n",
    "print(thislist)"
   ]
  },
  {
   "cell_type": "code",
   "execution_count": 10,
   "id": "9832cbfa-459c-408a-8cf6-cf413ff50cf0",
   "metadata": {},
   "outputs": [
    {
     "name": "stdout",
     "output_type": "stream",
     "text": [
      "[23, 50, 65, 82, 100]\n"
     ]
    }
   ],
   "source": [
    "# Sort the list numerically:\n",
    "thislist = [100,50,65,82,23]\n",
    "thislist.sort()\n",
    "print(thislist)"
   ]
  },
  {
   "cell_type": "markdown",
   "id": "e03fda4e-9709-4029-bc26-264f8dc2a708",
   "metadata": {},
   "source": [
    "* Sort Descending"
   ]
  },
  {
   "cell_type": "raw",
   "id": "98cb618d-2b1c-407b-a5a2-96813c141335",
   "metadata": {},
   "source": [
    "To sort descending , use the keyword argument\n",
    "reverse = True"
   ]
  },
  {
   "cell_type": "code",
   "execution_count": 15,
   "id": "76f2cf1f-a66f-4ad0-9e23-f80262908b32",
   "metadata": {},
   "outputs": [
    {
     "name": "stdout",
     "output_type": "stream",
     "text": [
      "['pineapple', 'ornage', 'mango', 'banana', 'Kiwi']\n"
     ]
    }
   ],
   "source": [
    "# Sort the list Descending\n",
    "thislist = [\"ornage\" , \"mango\" , \"Kiwi\", \"pineapple\" , \"banana\"]\n",
    "thislist.sort(reverse = True)\n",
    "print(thislist)"
   ]
  },
  {
   "cell_type": "code",
   "execution_count": 17,
   "id": "620cb1c8-8b7e-43d4-8b05-0b06f22f3adc",
   "metadata": {},
   "outputs": [
    {
     "name": "stdout",
     "output_type": "stream",
     "text": [
      "[100, 82, 65, 50, 23]\n"
     ]
    }
   ],
   "source": [
    "# Sort the list Descending\n",
    "thislist = [100,50,65,82,23]\n",
    "thislist.sort(reverse = True)\n",
    "print(thislist)"
   ]
  },
  {
   "cell_type": "code",
   "execution_count": 14,
   "id": "eba096e4-30a7-4b82-a7b6-47c9b4c24a06",
   "metadata": {},
   "outputs": [
    {
     "name": "stdout",
     "output_type": "stream",
     "text": [
      "31\n"
     ]
    }
   ],
   "source": [
    "import random\n",
    "print(random.randrange(0,100))"
   ]
  },
  {
   "cell_type": "markdown",
   "id": "74bbaf5b-eff8-4c3d-b76f-82074d058f04",
   "metadata": {},
   "source": [
    "# Python Dictionaries"
   ]
  },
  {
   "cell_type": "code",
   "execution_count": 18,
   "id": "830232ec-23b8-4c28-ad72-2059e6159b8f",
   "metadata": {},
   "outputs": [],
   "source": [
    "thisdict = {\n",
    "    \"brand\" : \"Ford\",\n",
    "    \"model\" : \"Mustang\",\n",
    "    \"year\" : 1964\n",
    "}"
   ]
  },
  {
   "cell_type": "code",
   "execution_count": 20,
   "id": "40e0eb50-2bfc-4976-af07-895adb6e7171",
   "metadata": {},
   "outputs": [],
   "source": [
    "# Dictionaries are used to store data values in key:vlaue pairs.\n",
    "# A dictionary is a collection which is ordered , changeable and do not allow duplicate."
   ]
  },
  {
   "cell_type": "code",
   "execution_count": 28,
   "id": "cce74c4e-5b08-4a03-a763-a7d178bafe7d",
   "metadata": {},
   "outputs": [
    {
     "name": "stdout",
     "output_type": "stream",
     "text": [
      "Ford\n"
     ]
    }
   ],
   "source": [
    "# Create nd print a dictionary\n",
    "thisdict = {\n",
    "    \"brand\" : \"Ford\",\n",
    "    \"model\" : \"Mustang\",\n",
    "    \"year\" : 1964\n",
    "}\n",
    "print(thisdict[\"brand\"])"
   ]
  },
  {
   "cell_type": "markdown",
   "id": "fa50994c-91c8-4ec0-8fdf-f15441167e9f",
   "metadata": {},
   "source": [
    "* Duplicates Not Allowed"
   ]
  },
  {
   "cell_type": "code",
   "execution_count": 37,
   "id": "a63a510a-555a-4ada-a20d-8610ff66e743",
   "metadata": {},
   "outputs": [
    {
     "name": "stdout",
     "output_type": "stream",
     "text": [
      "{'brand': 'Ford', 'model': 'Mustang', 'year': 2020}\n"
     ]
    }
   ],
   "source": [
    "# Duplicate values will overwrite exisiting values:\n",
    "thisdict = {\n",
    "    \"brand\" : \"Ford\",\n",
    "    \"model\" : \"Mustang\",\n",
    "    \"year\" : 1964,\n",
    "    \"year\" : 2020\n",
    "}\n",
    "print(thisdict)"
   ]
  },
  {
   "cell_type": "code",
   "execution_count": 39,
   "id": "123033bb-f7a8-4ef5-9651-46209cfccfcd",
   "metadata": {},
   "outputs": [
    {
     "name": "stdout",
     "output_type": "stream",
     "text": [
      "3\n"
     ]
    }
   ],
   "source": [
    "thisdict = {\n",
    "    \"brand\" : \"Ford\",\n",
    "    \"model\" : \"Mustang\",\n",
    "    \"year\" : 1964,\n",
    "    \"year\" : 2020\n",
    "}\n",
    "print(len(thisdict))"
   ]
  },
  {
   "cell_type": "markdown",
   "id": "02a5dc99-942e-4418-b48e-8133bdd086c0",
   "metadata": {},
   "source": [
    "* Accessing items"
   ]
  },
  {
   "cell_type": "code",
   "execution_count": 46,
   "id": "e10d2b46-6069-4ef7-b1b1-20c3206ffed1",
   "metadata": {},
   "outputs": [
    {
     "name": "stdout",
     "output_type": "stream",
     "text": [
      "Mustang\n"
     ]
    }
   ],
   "source": [
    "thisdict = {\n",
    "    \"brand\" : \"Ford\",\n",
    "    \"model\" : \"Mustang\",\n",
    "    \"year\" : 1964\n",
    "}\n",
    "x = thisdict[\"model\"]\n",
    "print(x)"
   ]
  },
  {
   "cell_type": "code",
   "execution_count": 48,
   "id": "7234e43b-c73d-493b-982d-71a2d56dfdb6",
   "metadata": {},
   "outputs": [],
   "source": [
    "# Get the value of the model key:\n",
    "x = thisdict.get(\"model\")"
   ]
  },
  {
   "cell_type": "code",
   "execution_count": 50,
   "id": "90b582c8-78c0-4419-818e-aa018a59fef0",
   "metadata": {},
   "outputs": [
    {
     "name": "stdout",
     "output_type": "stream",
     "text": [
      "Mustang\n"
     ]
    }
   ],
   "source": [
    "print(x)"
   ]
  },
  {
   "cell_type": "markdown",
   "id": "f43869a1-8f30-4b01-aa46-0d578360c53a",
   "metadata": {},
   "source": [
    "* Get Keys"
   ]
  },
  {
   "cell_type": "code",
   "execution_count": 57,
   "id": "426c2b3b-5a58-45e8-a614-9e6afc8a4f4e",
   "metadata": {},
   "outputs": [
    {
     "name": "stdout",
     "output_type": "stream",
     "text": [
      "dict_keys(['brand', 'model', 'year'])\n"
     ]
    }
   ],
   "source": [
    "# Get a list of the keys:\n",
    "x =  thisdict.keys()\n",
    "print(x)"
   ]
  },
  {
   "cell_type": "code",
   "execution_count": 61,
   "id": "5180bb6a-b61c-4e10-8d49-57f197cd80f8",
   "metadata": {},
   "outputs": [
    {
     "name": "stdout",
     "output_type": "stream",
     "text": [
      "dict_keys(['brand', 'model', 'year'])\n",
      "dict_keys(['brand', 'model', 'year', 'color'])\n"
     ]
    }
   ],
   "source": [
    "# Add a new item to the original dictionary , and see that the keys list gets updated as well:\n",
    "car = {\n",
    "    \"brand\" : \"Ford\",\n",
    "    \"model\" : \"Mustang\",\n",
    "    \"year\" : 1964\n",
    "}\n",
    "\n",
    "x = car.keys()\n",
    "print(x)\n",
    "\n",
    "car[\"color\"] = \"white\"\n",
    "print(x)"
   ]
  },
  {
   "cell_type": "code",
   "execution_count": 63,
   "id": "590eaeab-db31-46c9-b7e2-e70f76fd5a24",
   "metadata": {},
   "outputs": [
    {
     "name": "stdout",
     "output_type": "stream",
     "text": [
      "dict_values(['Ford', 'Mustang', 1964])\n"
     ]
    }
   ],
   "source": [
    "x = thisdict.values()\n",
    "print(x)"
   ]
  },
  {
   "cell_type": "code",
   "execution_count": 65,
   "id": "b75bc17b-6070-451c-918c-97fa4f20cdb8",
   "metadata": {},
   "outputs": [
    {
     "name": "stdout",
     "output_type": "stream",
     "text": [
      "dict_values(['Ford', 'Mustang', 1964])\n",
      "dict_values(['Ford', 'Mustang', '2020'])\n"
     ]
    }
   ],
   "source": [
    "# make a change in the original dictionary and see what the keys list gets updated as well:\n",
    "car = {\n",
    "    \"brand\" : \"Ford\",\n",
    "    \"model\" : \"Mustang\",\n",
    "    \"year\" : 1964\n",
    "}\n",
    "\n",
    "x = car.values()\n",
    "print(x)\n",
    "\n",
    "car[\"year\"] = \"2020\"\n",
    "print(x)"
   ]
  },
  {
   "cell_type": "code",
   "execution_count": 67,
   "id": "7ba020c1-aa89-41cf-87c2-51b9042b2fd3",
   "metadata": {},
   "outputs": [
    {
     "name": "stdout",
     "output_type": "stream",
     "text": [
      "dict_values(['Ford', 'Mustang', 1964])\n",
      "dict_values(['Ford', 'Mustang', 1964, 'red'])\n"
     ]
    }
   ],
   "source": [
    "car = {\n",
    "    \"brand\" : \"Ford\",\n",
    "    \"model\" : \"Mustang\",\n",
    "    \"year\" : 1964\n",
    "}\n",
    "\n",
    "x = car.values()\n",
    "print(x)\n",
    "\n",
    "car[\"color\"] = \"red\"\n",
    "print(x)"
   ]
  },
  {
   "cell_type": "markdown",
   "id": "81e2bc5b-148c-490a-b362-7a078633fb40",
   "metadata": {},
   "source": [
    "# Functions"
   ]
  },
  {
   "cell_type": "code",
   "execution_count": 70,
   "id": "23676b8e-fcb9-49b6-ad67-19c28c2f5191",
   "metadata": {},
   "outputs": [],
   "source": [
    "# A function is a block of code which only runs when it is called.\n",
    "# You can pass data . known as parameters , into a funciton\n",
    "# A function can return data as a result"
   ]
  },
  {
   "cell_type": "markdown",
   "id": "5d547075-863e-4471-938e-4a4d2e81ba76",
   "metadata": {},
   "source": [
    "* Creating a function"
   ]
  },
  {
   "cell_type": "code",
   "execution_count": 79,
   "id": "6d1774c6-388b-4825-b27d-5178e972dd7d",
   "metadata": {},
   "outputs": [],
   "source": [
    "def my_function():\n",
    "    print(\"Hello from a function\")"
   ]
  },
  {
   "cell_type": "markdown",
   "id": "fa886bee-f09a-4747-8ecc-94b0c13f1142",
   "metadata": {},
   "source": [
    "* calling a function"
   ]
  },
  {
   "cell_type": "code",
   "execution_count": 82,
   "id": "22830bc8-306e-4554-90e5-e6fe10f90ce7",
   "metadata": {},
   "outputs": [
    {
     "name": "stdout",
     "output_type": "stream",
     "text": [
      "Hello from a function\n"
     ]
    }
   ],
   "source": [
    "def my_function():\n",
    "    print(\"Hello from a function\")\n",
    "my_function()"
   ]
  },
  {
   "cell_type": "markdown",
   "id": "cb6d2256-80df-4d4c-8d67-2fc73dc548a9",
   "metadata": {},
   "source": [
    "* Arguments"
   ]
  },
  {
   "cell_type": "code",
   "execution_count": 87,
   "id": "3dea4648-c1e8-4e68-9558-8c7a6775fbf4",
   "metadata": {},
   "outputs": [
    {
     "name": "stdout",
     "output_type": "stream",
     "text": [
      "Email Refsnes\n",
      "Tobias Refsnes\n",
      "Linus Refsnes\n"
     ]
    }
   ],
   "source": [
    "def my_function(fname):\n",
    "    print(fname + \" Refsnes\")\n",
    "my_function(\"Email\")\n",
    "my_function(\"Tobias\")\n",
    "my_function(\"Linus\")"
   ]
  },
  {
   "cell_type": "code",
   "execution_count": 97,
   "id": "f219db69-24f0-41fc-a5c9-a69d711a286d",
   "metadata": {},
   "outputs": [
    {
     "name": "stdout",
     "output_type": "stream",
     "text": [
      "nikhil sharma\n",
      "sahil sharma\n",
      "vyom sharma\n"
     ]
    }
   ],
   "source": [
    "def my_function(name):\n",
    "    print(name + \" sharma\")\n",
    "my_function(\"nikhil\")\n",
    "my_function(\"sahil\")\n",
    "my_function(\"vyom\")\n"
   ]
  },
  {
   "cell_type": "raw",
   "id": "82152578-f5f2-43d4-b136-4232f64f10d0",
   "metadata": {},
   "source": [
    "* Parameters or Arguments ?\n",
    "* A Parameter is the variable listed inside the parentheses in the funciton definition.\n",
    "* An argument is the value that is sent to the function when it is called."
   ]
  },
  {
   "cell_type": "code",
   "execution_count": null,
   "id": "2539c9d4-f32f-4d9e-b0e1-eeda5bd6ab2a",
   "metadata": {},
   "outputs": [],
   "source": []
  },
  {
   "cell_type": "markdown",
   "id": "841bf22c-88ff-4804-8d9a-de7c4cdacae2",
   "metadata": {},
   "source": [
    "# File Handling"
   ]
  },
  {
   "cell_type": "markdown",
   "id": "a238d9e7-dd84-4e4a-8278-d8aa2825acd9",
   "metadata": {},
   "source": [
    "Operations same:\n",
    "* Open a file\n",
    "* read or write operation\n",
    "* close a file"
   ]
  },
  {
   "cell_type": "code",
   "execution_count": null,
   "id": "eec91484-345b-460c-8ecd-6ae3d47721cb",
   "metadata": {},
   "outputs": [],
   "source": []
  },
  {
   "cell_type": "code",
   "execution_count": 103,
   "id": "2a256209-12c5-4bf1-a55e-b9b171b73955",
   "metadata": {},
   "outputs": [],
   "source": [
    "# opening a file"
   ]
  },
  {
   "cell_type": "code",
   "execution_count": 105,
   "id": "5821bfaf-1aaf-4b77-b2d0-74e9e1c66180",
   "metadata": {},
   "outputs": [],
   "source": [
    "f = open(\"sales12.txt\")"
   ]
  },
  {
   "cell_type": "code",
   "execution_count": 107,
   "id": "711f7ec6-1e92-4ba5-a0dd-648c2444861a",
   "metadata": {},
   "outputs": [
    {
     "data": {
      "text/plain": [
       "<_io.TextIOWrapper name='sales12.txt' mode='r' encoding='cp1252'>"
      ]
     },
     "execution_count": 107,
     "metadata": {},
     "output_type": "execute_result"
    }
   ],
   "source": [
    "f"
   ]
  },
  {
   "cell_type": "code",
   "execution_count": 113,
   "id": "116cbefa-4d6d-4973-aaac-97a0d43f1d09",
   "metadata": {},
   "outputs": [
    {
     "data": {
      "text/plain": [
       "False"
      ]
     },
     "execution_count": 113,
     "metadata": {},
     "output_type": "execute_result"
    }
   ],
   "source": [
    "f.closed"
   ]
  },
  {
   "cell_type": "code",
   "execution_count": 115,
   "id": "a89d668c-d712-40fd-9eac-2b592b2eb8a0",
   "metadata": {},
   "outputs": [],
   "source": [
    "f.close()"
   ]
  },
  {
   "cell_type": "code",
   "execution_count": 117,
   "id": "0bb6da07-9f92-4f79-b70e-689ea81b7f96",
   "metadata": {},
   "outputs": [
    {
     "data": {
      "text/plain": [
       "True"
      ]
     },
     "execution_count": 117,
     "metadata": {},
     "output_type": "execute_result"
    }
   ],
   "source": [
    "f.closed"
   ]
  },
  {
   "cell_type": "markdown",
   "id": "a6dfc131-a90b-45d3-bcdc-f3a4e9b44310",
   "metadata": {},
   "source": [
    "modes of file :\n",
    "* r - read\n",
    "* w - writing\n",
    "* a - append"
   ]
  },
  {
   "cell_type": "code",
   "execution_count": null,
   "id": "9c069dd5-1340-484a-8ed8-440383c20fcb",
   "metadata": {},
   "outputs": [],
   "source": []
  },
  {
   "cell_type": "code",
   "execution_count": 121,
   "id": "927f0efb-f7f9-48b2-b32d-823e53d16feb",
   "metadata": {},
   "outputs": [],
   "source": [
    "f = open(\"account12\" , mode = \"w\")"
   ]
  },
  {
   "cell_type": "code",
   "execution_count": 123,
   "id": "f8398948-cd1a-4ad7-b789-230827dd079b",
   "metadata": {},
   "outputs": [
    {
     "data": {
      "text/plain": [
       "<_io.TextIOWrapper name='account12' mode='w' encoding='cp1252'>"
      ]
     },
     "execution_count": 123,
     "metadata": {},
     "output_type": "execute_result"
    }
   ],
   "source": [
    "f"
   ]
  },
  {
   "cell_type": "code",
   "execution_count": 125,
   "id": "9b6faa1c-dfd5-4039-a6fb-d53cfa6672e4",
   "metadata": {},
   "outputs": [
    {
     "data": {
      "text/plain": [
       "False"
      ]
     },
     "execution_count": 125,
     "metadata": {},
     "output_type": "execute_result"
    }
   ],
   "source": [
    "f.closed"
   ]
  },
  {
   "cell_type": "code",
   "execution_count": 127,
   "id": "7b67399a-c7cc-4a0e-ae1d-c55ec41eb9ab",
   "metadata": {},
   "outputs": [],
   "source": [
    "f.close()"
   ]
  },
  {
   "cell_type": "code",
   "execution_count": 129,
   "id": "182aa480-1f3c-4d40-b3d8-5a617fae526c",
   "metadata": {},
   "outputs": [
    {
     "data": {
      "text/plain": [
       "True"
      ]
     },
     "execution_count": 129,
     "metadata": {},
     "output_type": "execute_result"
    }
   ],
   "source": [
    "f.closed"
   ]
  },
  {
   "cell_type": "code",
   "execution_count": 131,
   "id": "3732ec3d-e5e5-4970-ac27-b62dff9b94b0",
   "metadata": {},
   "outputs": [],
   "source": [
    "f = open(\"accounts12\")"
   ]
  },
  {
   "cell_type": "code",
   "execution_count": 133,
   "id": "9fd419cd-ee80-44cd-bc46-75392060fee6",
   "metadata": {},
   "outputs": [
    {
     "data": {
      "text/plain": [
       "<_io.TextIOWrapper name='accounts12' mode='r' encoding='cp1252'>"
      ]
     },
     "execution_count": 133,
     "metadata": {},
     "output_type": "execute_result"
    }
   ],
   "source": [
    "f"
   ]
  },
  {
   "cell_type": "code",
   "execution_count": 135,
   "id": "9ba1095f-833c-4bb5-a746-e8ca2dc6c360",
   "metadata": {},
   "outputs": [],
   "source": [
    "# context manager : it generally deallocate the resources\n",
    "# freeup"
   ]
  },
  {
   "cell_type": "code",
   "execution_count": null,
   "id": "4bce888e-4155-4a6f-9c8b-c9d87d2f57d8",
   "metadata": {},
   "outputs": [],
   "source": []
  },
  {
   "cell_type": "code",
   "execution_count": 138,
   "id": "888bbf81-49cb-4e82-a687-1937e897c25e",
   "metadata": {},
   "outputs": [
    {
     "name": "stdout",
     "output_type": "stream",
     "text": [
      "Inside False\n",
      "Outside True\n"
     ]
    }
   ],
   "source": [
    "with open(\"sales12.txt\") as f:\n",
    "    print(\"Inside\" , f.closed)\n",
    "print(\"Outside\" , f.closed)"
   ]
  },
  {
   "cell_type": "code",
   "execution_count": null,
   "id": "5beab039-3bbf-4a1d-8058-dd74fa1cbd00",
   "metadata": {},
   "outputs": [],
   "source": []
  },
  {
   "cell_type": "code",
   "execution_count": 141,
   "id": "39cd0715-7eab-47c4-b08c-736e8ce718ed",
   "metadata": {},
   "outputs": [],
   "source": [
    "# writing to a file\n",
    "# write : it generally returns the number of words/characters"
   ]
  },
  {
   "cell_type": "code",
   "execution_count": 143,
   "id": "68d01c1a-354c-4d7d-8eda-0ee76dc87aec",
   "metadata": {},
   "outputs": [
    {
     "name": "stdout",
     "output_type": "stream",
     "text": [
      "41 27\n"
     ]
    }
   ],
   "source": [
    "with open(\"profile12.txt\" , mode = \"w\") as f:\n",
    "    r1 = f.write(\"this file has been generated by python .\\n\")\n",
    "    r2 = f.write(\"I am learning file handling\")\n",
    "    print(r1 , r2)"
   ]
  },
  {
   "cell_type": "code",
   "execution_count": 145,
   "id": "a79808d0-9873-47cf-9d51-39c67711c2fa",
   "metadata": {},
   "outputs": [
    {
     "name": "stdout",
     "output_type": "stream",
     "text": [
      "41 13\n"
     ]
    }
   ],
   "source": [
    "with open(\"profile12.txt\" , mode = \"a\") as f:\n",
    "    h = f.write(\"\\n we are appending some text thank you. \\n\")\n",
    "    k = f.write(\"i love python\")\n",
    "    print(h,k)"
   ]
  },
  {
   "cell_type": "code",
   "execution_count": 147,
   "id": "bae01e52-2cab-489b-a6e4-5bc65c58e42a",
   "metadata": {},
   "outputs": [
    {
     "name": "stdout",
     "output_type": "stream",
     "text": [
      "this file has been generated by python .\n",
      "I am learning file handling\n",
      " we are appending some text thank you. \n",
      "i love python\n"
     ]
    }
   ],
   "source": [
    "with open(\"profile12.txt\") as f:\n",
    "    print(f.read())"
   ]
  },
  {
   "cell_type": "code",
   "execution_count": 149,
   "id": "28622053-b394-4459-9c77-8408c4091a95",
   "metadata": {},
   "outputs": [
    {
     "name": "stdout",
     "output_type": "stream",
     "text": [
      "sepal_length,sepal_width,petal_length,petal_width,species\n",
      "5.1,3.5,1.4,0.2,setosa\n",
      "4.9,3,1.4,0.2,setosa\n",
      "4.7,3.2,1.3,0.2,setosa\n",
      "4.6,3.1,1.5,0.2,setosa\n",
      "5,3.6,1.4,0.2,setosa\n",
      "5.4,3.9,1.7,0.4,setosa\n",
      "4.6,3.4,1.4,0.3,setosa\n",
      "5,3.4,1.5,0.2,setosa\n",
      "4.4,2.9,1.4,0.2,setosa\n",
      "4.9,3.1,1.5,0.1,setosa\n",
      "5.4,3.7,1.5,0.2,setosa\n",
      "4.8,3.4,1.6,0.2,setosa\n",
      "4.8,3,1.4,0.1,setosa\n",
      "4.3,3,1.1,0.1,setosa\n",
      "5.8,4,1.2,0.2,setosa\n",
      "5.7,4.4,1.5,0.4,setosa\n",
      "5.4,3.9,1.3,0.4,setosa\n",
      "5.1,3.5,1.4,0.3,setosa\n",
      "5.7,3.8,1.7,0.3,setosa\n",
      "5.1,3.8,1.5,0.3,setosa\n",
      "5.4,3.4,1.7,0.2,setosa\n",
      "5.1,3.7,1.5,0.4,setosa\n",
      "4.6,3.6,1,0.2,setosa\n",
      "5.1,3.3,1.7,0.5,setosa\n",
      "4.8,3.4,1.9,0.2,setosa\n",
      "5,3,1.6,0.2,setosa\n",
      "5,3.4,1.6,0.4,setosa\n",
      "5.2,3.5,1.5,0.2,setosa\n",
      "5.2,3.4,1.4,0.2,setosa\n",
      "4.7,3.2,1.6,0.2,setosa\n",
      "4.8,3.1,1.6,0.2,setosa\n",
      "5.4,3.4,1.5,0.4,setosa\n",
      "5.2,4.1,1.5,0.1,setosa\n",
      "5.5,4.2,1.4,0.2,setosa\n",
      "4.9,3.1,1.5,0.1,setosa\n",
      "5,3.2,1.2,0.2,setosa\n",
      "5.5,3.5,1.3,0.2,setosa\n",
      "4.9,3.1,1.5,0.1,setosa\n",
      "4.4,3,1.3,0.2,setosa\n",
      "5.1,3.4,1.5,0.2,setosa\n",
      "5,3.5,1.3,0.3,setosa\n",
      "4.5,2.3,1.3,0.3,setosa\n",
      "4.4,3.2,1.3,0.2,setosa\n",
      "5,3.5,1.6,0.6,setosa\n",
      "5.1,3.8,1.9,0.4,setosa\n",
      "4.8,3,1.4,0.3,setosa\n",
      "5.1,3.8,1.6,0.2,setosa\n",
      "4.6,3.2,1.4,0.2,setosa\n",
      "5.3,3.7,1.5,0.2,setosa\n",
      "5,3.3,1.4,0.2,setosa\n",
      "7,3.2,4.7,1.4,versicolor\n",
      "6.4,3.2,4.5,1.5,versicolor\n",
      "6.9,3.1,4.9,1.5,versicolor\n",
      "5.5,2.3,4,1.3,versicolor\n",
      "6.5,2.8,4.6,1.5,versicolor\n",
      "5.7,2.8,4.5,1.3,versicolor\n",
      "6.3,3.3,4.7,1.6,versicolor\n",
      "4.9,2.4,3.3,1,versicolor\n",
      "6.6,2.9,4.6,1.3,versicolor\n",
      "5.2,2.7,3.9,1.4,versicolor\n",
      "5,2,3.5,1,versicolor\n",
      "5.9,3,4.2,1.5,versicolor\n",
      "6,2.2,4,1,versicolor\n",
      "6.1,2.9,4.7,1.4,versicolor\n",
      "5.6,2.9,3.6,1.3,versicolor\n",
      "6.7,3.1,4.4,1.4,versicolor\n",
      "5.6,3,4.5,1.5,versicolor\n",
      "5.8,2.7,4.1,1,versicolor\n",
      "6.2,2.2,4.5,1.5,versicolor\n",
      "5.6,2.5,3.9,1.1,versicolor\n",
      "5.9,3.2,4.8,1.8,versicolor\n",
      "6.1,2.8,4,1.3,versicolor\n",
      "6.3,2.5,4.9,1.5,versicolor\n",
      "6.1,2.8,4.7,1.2,versicolor\n",
      "6.4,2.9,4.3,1.3,versicolor\n",
      "6.6,3,4.4,1.4,versicolor\n",
      "6.8,2.8,4.8,1.4,versicolor\n",
      "6.7,3,5,1.7,versicolor\n",
      "6,2.9,4.5,1.5,versicolor\n",
      "5.7,2.6,3.5,1,versicolor\n",
      "5.5,2.4,3.8,1.1,versicolor\n",
      "5.5,2.4,3.7,1,versicolor\n",
      "5.8,2.7,3.9,1.2,versicolor\n",
      "6,2.7,5.1,1.6,versicolor\n",
      "5.4,3,4.5,1.5,versicolor\n",
      "6,3.4,4.5,1.6,versicolor\n",
      "6.7,3.1,4.7,1.5,versicolor\n",
      "6.3,2.3,4.4,1.3,versicolor\n",
      "5.6,3,4.1,1.3,versicolor\n",
      "5.5,2.5,4,1.3,versicolor\n",
      "5.5,2.6,4.4,1.2,versicolor\n",
      "6.1,3,4.6,1.4,versicolor\n",
      "5.8,2.6,4,1.2,versicolor\n",
      "5,2.3,3.3,1,versicolor\n",
      "5.6,2.7,4.2,1.3,versicolor\n",
      "5.7,3,4.2,1.2,versicolor\n",
      "5.7,2.9,4.2,1.3,versicolor\n",
      "6.2,2.9,4.3,1.3,versicolor\n",
      "5.1,2.5,3,1.1,versicolor\n",
      "5.7,2.8,4.1,1.3,versicolor\n",
      "6.3,3.3,6,2.5,virginica\n",
      "5.8,2.7,5.1,1.9,virginica\n",
      "7.1,3,5.9,2.1,virginica\n",
      "6.3,2.9,5.6,1.8,virginica\n",
      "6.5,3,5.8,2.2,virginica\n",
      "7.6,3,6.6,2.1,virginica\n",
      "4.9,2.5,4.5,1.7,virginica\n",
      "7.3,2.9,6.3,1.8,virginica\n",
      "6.7,2.5,5.8,1.8,virginica\n",
      "7.2,3.6,6.1,2.5,virginica\n",
      "6.5,3.2,5.1,2,virginica\n",
      "6.4,2.7,5.3,1.9,virginica\n",
      "6.8,3,5.5,2.1,virginica\n",
      "5.7,2.5,5,2,virginica\n",
      "5.8,2.8,5.1,2.4,virginica\n",
      "6.4,3.2,5.3,2.3,virginica\n",
      "6.5,3,5.5,1.8,virginica\n",
      "7.7,3.8,6.7,2.2,virginica\n",
      "7.7,2.6,6.9,2.3,virginica\n",
      "6,2.2,5,1.5,virginica\n",
      "6.9,3.2,5.7,2.3,virginica\n",
      "5.6,2.8,4.9,2,virginica\n",
      "7.7,2.8,6.7,2,virginica\n",
      "6.3,2.7,4.9,1.8,virginica\n",
      "6.7,3.3,5.7,2.1,virginica\n",
      "7.2,3.2,6,1.8,virginica\n",
      "6.2,2.8,4.8,1.8,virginica\n",
      "6.1,3,4.9,1.8,virginica\n",
      "6.4,2.8,5.6,2.1,virginica\n",
      "7.2,3,5.8,1.6,virginica\n",
      "7.4,2.8,6.1,1.9,virginica\n",
      "7.9,3.8,6.4,2,virginica\n",
      "6.4,2.8,5.6,2.2,virginica\n",
      "6.3,2.8,5.1,1.5,virginica\n",
      "6.1,2.6,5.6,1.4,virginica\n",
      "7.7,3,6.1,2.3,virginica\n",
      "6.3,3.4,5.6,2.4,virginica\n",
      "6.4,3.1,5.5,1.8,virginica\n",
      "6,3,4.8,1.8,virginica\n",
      "6.9,3.1,5.4,2.1,virginica\n",
      "6.7,3.1,5.6,2.4,virginica\n",
      "6.9,3.1,5.1,2.3,virginica\n",
      "5.8,2.7,5.1,1.9,virginica\n",
      "6.8,3.2,5.9,2.3,virginica\n",
      "6.7,3.3,5.7,2.5,virginica\n",
      "6.7,3,5.2,2.3,virginica\n",
      "6.3,2.5,5,1.9,virginica\n",
      "6.5,3,5.2,2,virginica\n",
      "6.2,3.4,5.4,2.3,virginica\n",
      "5.9,3,5.1,1.8,virginica\n",
      "\n"
     ]
    }
   ],
   "source": [
    "with open(\"iris27.csv\") as f:\n",
    "    print(f.read())"
   ]
  },
  {
   "cell_type": "code",
   "execution_count": 1,
   "id": "f9b8c1db-e72d-406c-9c38-78523a4ed571",
   "metadata": {},
   "outputs": [
    {
     "name": "stdout",
     "output_type": "stream",
     "text": [
      " Volume in drive C has no label.\n",
      " Volume Serial Number is 325F-1FC0\n",
      "\n",
      " Directory of C:\\Users\\NIKHIL SHARMA\\Desktop\n",
      "\n",
      "03-01-2025  16:28    <DIR>          .\n",
      "03-01-2025  15:50    <DIR>          ..\n",
      "03-01-2025  16:32    <DIR>          .ipynb_checkpoints\n",
      "17-12-2024  13:16                72 abc17_12.txt\n",
      "16-12-2024  19:33                 0 accounts12\n",
      "03-01-2025  16:28    <DIR>          Basics.py\n",
      "03-01-2025  16:21    <DIR>          Contacts\n",
      "23-10-2024  11:58            17,261 customers-100.csv\n",
      "17-12-2024  12:59            22,609 exceptional Handling 16_12.ipynb\n",
      "17-12-2024  21:23            36,202 exceptional Handling 17_12.ipynb\n",
      "17-12-2024  08:23            18,274 File handling 12_2024.ipynb\n",
      "17-12-2024  08:34            12,206 homework.ipynb\n",
      "17-12-2024  12:54             3,867 iris27.csv\n",
      "17-12-2024  21:38             1,605 module_assignment.ipynb\n",
      "25-12-2024  12:40            50,397 OOPs_19-24_12.ipynb\n",
      "16-12-2024  21:58               325 paragraph12.txt\n",
      "03-01-2025  14:10             3,126 practice test 03_01_25.ipynb\n",
      "01-01-2025  16:05               125 profile12.txt\n",
      "03-01-2025  16:21    <DIR>          python_rev\n",
      "03-01-2025  12:23           100,672 Python_Test_02_01_2025.pdf\n",
      "16-12-2024  19:23                 0 sales12.txt\n",
      "01-01-2025  16:22            68,551 test prepration.ipynb\n",
      "03-01-2025  11:52             7,819 Test.ipynb\n",
      "31-12-2024  15:08            10,342 w3 resoource.ipynb\n",
      "              18 File(s)        353,453 bytes\n",
      "               6 Dir(s)  131,863,683,072 bytes free\n"
     ]
    }
   ],
   "source": [
    "ls"
   ]
  },
  {
   "cell_type": "code",
   "execution_count": null,
   "id": "a3122164-d8fb-4700-a41f-1f5d4ba442d1",
   "metadata": {},
   "outputs": [],
   "source": []
  }
 ],
 "metadata": {
  "kernelspec": {
   "display_name": "Python [conda env:base] *",
   "language": "python",
   "name": "conda-base-py"
  },
  "language_info": {
   "codemirror_mode": {
    "name": "ipython",
    "version": 3
   },
   "file_extension": ".py",
   "mimetype": "text/x-python",
   "name": "python",
   "nbconvert_exporter": "python",
   "pygments_lexer": "ipython3",
   "version": "3.12.7"
  }
 },
 "nbformat": 4,
 "nbformat_minor": 5
}
