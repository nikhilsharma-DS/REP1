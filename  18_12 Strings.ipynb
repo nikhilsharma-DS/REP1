{
 "cells": [
  {
   "cell_type": "code",
   "execution_count": 111,
   "id": "3cecf327-0ae1-4cda-b5eb-17d042812b52",
   "metadata": {},
   "outputs": [
    {
     "name": "stdout",
     "output_type": "stream",
     "text": [
      "Hello\n"
     ]
    }
   ],
   "source": [
    "print(\"Hello\")"
   ]
  },
  {
   "cell_type": "code",
   "execution_count": 113,
   "id": "4e68d9c0-18d3-4de0-bd17-f790b10c777b",
   "metadata": {},
   "outputs": [
    {
     "name": "stdout",
     "output_type": "stream",
     "text": [
      "Hello\n"
     ]
    }
   ],
   "source": [
    "print('Hello')"
   ]
  },
  {
   "cell_type": "markdown",
   "id": "13ea022a-0987-4458-9b82-d7503a71dde3",
   "metadata": {},
   "source": [
    "# Quotes inside quotes"
   ]
  },
  {
   "cell_type": "code",
   "execution_count": 10,
   "id": "c0cbe91e-2110-4952-8c67-23bd45091e2c",
   "metadata": {},
   "outputs": [
    {
     "name": "stdout",
     "output_type": "stream",
     "text": [
      "It's alright\n",
      "he is called 'johny'\n",
      "he is called \"Johny\"\n"
     ]
    }
   ],
   "source": [
    "print(\"It's alright\")\n",
    "print(\"he is called 'johny'\")\n",
    "print('he is called \"Johny\"')"
   ]
  },
  {
   "cell_type": "markdown",
   "id": "89014e85-af45-4a73-be6b-b53d7b643f47",
   "metadata": {},
   "source": [
    "# multiline strings"
   ]
  },
  {
   "cell_type": "code",
   "execution_count": 15,
   "id": "adc13a4f-2fec-4002-95b8-2c8341e9ecaf",
   "metadata": {},
   "outputs": [
    {
     "name": "stdout",
     "output_type": "stream",
     "text": [
      "ankul bhot bada chutiya hai, \n",
      "wo bhot bada kameena h,\n",
      "ed to jakjdj kkajkj jjshddb jjjs \n"
     ]
    }
   ],
   "source": [
    "a = \"\"\"ankul bhot bada chutiya hai, \n",
    "wo bhot bada kameena h,\n",
    "ed to jakjdj kkajkj jjshddb jjjs \"\"\"\n",
    "print(a)"
   ]
  },
  {
   "cell_type": "raw",
   "id": "1b98f94c-001a-428e-aa4e-7d28dc2acc08",
   "metadata": {},
   "source": [
    "# Q . Get the character at position 1 (remember the first character has the position 0)."
   ]
  },
  {
   "cell_type": "code",
   "execution_count": 20,
   "id": "e0d8f2dd-8eda-421b-b1f5-88ba5047c4ee",
   "metadata": {},
   "outputs": [
    {
     "name": "stdout",
     "output_type": "stream",
     "text": [
      "e\n"
     ]
    }
   ],
   "source": [
    "a = \"Hello , World\"\n",
    "print(a[1])"
   ]
  },
  {
   "cell_type": "markdown",
   "id": "560cd593-06d0-41ec-b27b-c9989433af96",
   "metadata": {},
   "source": [
    "# Looping through a string"
   ]
  },
  {
   "cell_type": "raw",
   "id": "b13570c9-1e83-4e9d-9385-6d419b817253",
   "metadata": {},
   "source": [
    "# Loop through the letters in the word \"banana\":"
   ]
  },
  {
   "cell_type": "code",
   "execution_count": 24,
   "id": "8919c39f-f1eb-48ec-ba81-27b4e1fed14d",
   "metadata": {},
   "outputs": [
    {
     "name": "stdout",
     "output_type": "stream",
     "text": [
      "b\n",
      "a\n",
      "n\n",
      "a\n",
      "n\n",
      "a\n"
     ]
    }
   ],
   "source": [
    "for x in \"banana\":\n",
    "    print(x)"
   ]
  },
  {
   "cell_type": "markdown",
   "id": "801d1cca-af64-41e8-b0bb-9d59ebea4a45",
   "metadata": {},
   "source": [
    "# String length"
   ]
  },
  {
   "cell_type": "code",
   "execution_count": 27,
   "id": "f30844be-acd4-477e-a84a-50ba08f9ef5e",
   "metadata": {},
   "outputs": [
    {
     "name": "stdout",
     "output_type": "stream",
     "text": [
      "12\n"
     ]
    }
   ],
   "source": [
    "a = \"Hello,World!\"\n",
    "print(len(a))"
   ]
  },
  {
   "cell_type": "markdown",
   "id": "d7e76677-0274-440f-8fe9-d7a7076b9913",
   "metadata": {},
   "source": [
    "# check string    "
   ]
  },
  {
   "cell_type": "code",
   "execution_count": 32,
   "id": "9957f9c0-e973-4f09-a995-8cf3a7ac482d",
   "metadata": {},
   "outputs": [
    {
     "name": "stdout",
     "output_type": "stream",
     "text": [
      "True\n"
     ]
    }
   ],
   "source": [
    "txt = \"The best things in life are free!\"\n",
    "print(\"free\" in txt)"
   ]
  },
  {
   "cell_type": "code",
   "execution_count": 34,
   "id": "031125e2-2554-4510-865e-5a52506d5f62",
   "metadata": {},
   "outputs": [
    {
     "name": "stdout",
     "output_type": "stream",
     "text": [
      "yes,'free' is present.\n"
     ]
    }
   ],
   "source": [
    "txt = \"the best thing in life are free!\"\n",
    "if \"free\" in txt:\n",
    "    print(\"yes,'free' is present.\")"
   ]
  },
  {
   "cell_type": "markdown",
   "id": "2ab40b38-c815-453d-ac74-6da7219e3aa6",
   "metadata": {},
   "source": [
    "# check if not"
   ]
  },
  {
   "cell_type": "raw",
   "id": "7f3948d2-fe6a-4f66-9639-00f586cfe257",
   "metadata": {},
   "source": [
    "# check \"expensive\" is NOT present in the following text:"
   ]
  },
  {
   "cell_type": "code",
   "execution_count": 37,
   "id": "5314c9c0-935f-4d00-b67f-3fa971c70e4d",
   "metadata": {},
   "outputs": [
    {
     "name": "stdout",
     "output_type": "stream",
     "text": [
      "True\n"
     ]
    }
   ],
   "source": [
    "txt = \"the best things in life are free!\"\n",
    "print(\"expensive\" not in txt)"
   ]
  },
  {
   "cell_type": "code",
   "execution_count": 41,
   "id": "5d36cd1a-e920-465c-8110-282130d9c6e6",
   "metadata": {},
   "outputs": [
    {
     "name": "stdout",
     "output_type": "stream",
     "text": [
      "NO,'expensive' is not found\n"
     ]
    }
   ],
   "source": [
    "txt = \"The best things in life are free!\"\n",
    "if \"expensive\" not in txt:\n",
    "    print(\"NO,'expensive' is not found\")"
   ]
  },
  {
   "cell_type": "markdown",
   "id": "1a0885aa-16b6-46b3-b23f-939759aa5c6d",
   "metadata": {},
   "source": [
    "# Python slicing - strings"
   ]
  },
  {
   "cell_type": "markdown",
   "id": "3c473563-6bbf-4cba-b815-f314def978af",
   "metadata": {},
   "source": [
    "* Get the characters from position 2 to position 5(not included):"
   ]
  },
  {
   "cell_type": "code",
   "execution_count": 62,
   "id": "751ec42f-8c84-4dd2-a4c3-004ceed4d908",
   "metadata": {},
   "outputs": [
    {
     "name": "stdout",
     "output_type": "stream",
     "text": [
      "llo\n"
     ]
    }
   ],
   "source": [
    "a = \"Hello , World\"\n",
    "print(a[2:5])"
   ]
  },
  {
   "cell_type": "markdown",
   "id": "a9c270ec-5754-46d2-98b2-002eb8cdc4be",
   "metadata": {},
   "source": [
    "# Slice from the start"
   ]
  },
  {
   "cell_type": "markdown",
   "id": "d877de38-0d5a-4794-aa34-8bdda99800ed",
   "metadata": {},
   "source": [
    "* Get the characters from the start to position 5(not included):"
   ]
  },
  {
   "cell_type": "code",
   "execution_count": 66,
   "id": "cc4681fd-4231-4867-a6a6-5c6f36c91071",
   "metadata": {},
   "outputs": [
    {
     "name": "stdout",
     "output_type": "stream",
     "text": [
      "Hello\n"
     ]
    }
   ],
   "source": [
    "b = \"Hello , World\"\n",
    "print(b[:5])"
   ]
  },
  {
   "cell_type": "markdown",
   "id": "af0c717c-f677-4f6d-bb7c-dfc2424c3d2c",
   "metadata": {},
   "source": [
    "# Slice to the end:"
   ]
  },
  {
   "cell_type": "markdown",
   "id": "74a9fbb3-f62e-48d0-9123-b0c390ee2eaf",
   "metadata": {},
   "source": [
    "* Get the characters from position 2 , and all the way to the end :|"
   ]
  },
  {
   "cell_type": "code",
   "execution_count": 70,
   "id": "1b8e668a-35e6-4538-8b2e-79247efde94b",
   "metadata": {},
   "outputs": [
    {
     "name": "stdout",
     "output_type": "stream",
     "text": [
      "llo,World\n"
     ]
    }
   ],
   "source": [
    "b = \"Hello,World\"\n",
    "print(b[2:])"
   ]
  },
  {
   "cell_type": "markdown",
   "id": "d2585903-8f9f-4b1e-b217-78850fc19880",
   "metadata": {},
   "source": [
    "# Negative indexing"
   ]
  },
  {
   "cell_type": "markdown",
   "id": "3e558e11-295d-4192-a79c-8de2669b3afb",
   "metadata": {},
   "source": [
    "* Get the characters:\n",
    "From : \"o\" in \"World!\"(position-5)\n",
    "To , but not included : \"d\" in \"World!\"(position-2):"
   ]
  },
  {
   "cell_type": "code",
   "execution_count": 37,
   "id": "f698e6d9-a502-49de-8689-b02c1c36070b",
   "metadata": {},
   "outputs": [
    {
     "name": "stdout",
     "output_type": "stream",
     "text": [
      "orl\n"
     ]
    }
   ],
   "source": [
    "b = \"Hello , World!\"\n",
    "print(b[-5:-2])"
   ]
  },
  {
   "cell_type": "markdown",
   "id": "b97cd622-c841-45f5-88ec-16bf8d86c93d",
   "metadata": {},
   "source": [
    "# Python - Modify Strings"
   ]
  },
  {
   "cell_type": "markdown",
   "id": "b6f77e8d-6c31-4cbf-9963-c78e786ffc07",
   "metadata": {},
   "source": [
    "* Upper case :"
   ]
  },
  {
   "cell_type": "markdown",
   "id": "4782f44e-faad-42e8-9f89-47beab6d95b4",
   "metadata": {},
   "source": [
    "* exp: The upper() method returns the string in upper case :"
   ]
  },
  {
   "cell_type": "code",
   "execution_count": 98,
   "id": "3b18e97e-56f6-4d64-8ee6-6427a4c98038",
   "metadata": {},
   "outputs": [
    {
     "name": "stdout",
     "output_type": "stream",
     "text": [
      "HELLO , WORLD!\n"
     ]
    }
   ],
   "source": [
    "a = \"Hello , World!\"\n",
    "print(a.upper())"
   ]
  },
  {
   "cell_type": "markdown",
   "id": "dc6a75dd-0c2f-4d11-beca-08d92096e1d4",
   "metadata": {},
   "source": [
    "* Lower case:"
   ]
  },
  {
   "cell_type": "markdown",
   "id": "6d5c65df-88b3-4b93-af89-9a6bd78fc977",
   "metadata": {},
   "source": [
    "* exp: The lower() method returns the string in lower case :"
   ]
  },
  {
   "cell_type": "code",
   "execution_count": 101,
   "id": "7e0941b6-9dbf-4350-9daa-f4af113a054e",
   "metadata": {},
   "outputs": [
    {
     "name": "stdout",
     "output_type": "stream",
     "text": [
      "hello , world!\n"
     ]
    }
   ],
   "source": [
    "a = \"Hello , World!\"\n",
    "print(a.lower())"
   ]
  },
  {
   "cell_type": "markdown",
   "id": "140f78ce-e792-40fd-81e0-b4ee1ded4916",
   "metadata": {},
   "source": [
    "* Remove Whitespace:"
   ]
  },
  {
   "cell_type": "raw",
   "id": "0415740a-f957-4b58-87d9-de825a247cef",
   "metadata": {},
   "source": [
    "* whitespace is the space before and/or after the actual text , and very often you want to remove this space.\n",
    "example : \n",
    "             the strip() method removes any whitespace from the begining or the end:"
   ]
  },
  {
   "cell_type": "raw",
   "id": "fc399e42-8413-46b7-8f3c-8ba0e924dcf3",
   "metadata": {},
   "source": [
    "a = \"  Hello,World!\"\n",
    "print(a.strip())"
   ]
  },
  {
   "cell_type": "markdown",
   "id": "063aa08b-4991-43a3-a058-d9c942ffd22c",
   "metadata": {},
   "source": [
    "* Replace String :"
   ]
  },
  {
   "cell_type": "raw",
   "id": "382d63d1-3a33-4b01-87d4-f8255e3b32d1",
   "metadata": {},
   "source": [
    "ex : The replace() method replaces a string with another string."
   ]
  },
  {
   "cell_type": "code",
   "execution_count": 17,
   "id": "1c6633a7-1453-4c9c-a654-fb54efac912d",
   "metadata": {},
   "outputs": [
    {
     "name": "stdout",
     "output_type": "stream",
     "text": [
      "Jello,World!\n"
     ]
    }
   ],
   "source": [
    "a = \"Hello,World!\"\n",
    "print(a.replace(\"H\" , \"J\"))"
   ]
  },
  {
   "cell_type": "markdown",
   "id": "9b2806fe-991e-4f9f-ab05-114c33517a44",
   "metadata": {},
   "source": [
    "* Split String :"
   ]
  },
  {
   "cell_type": "raw",
   "id": "72858e9a-e6c1-4d56-a5b2-4b24dd25efe3",
   "metadata": {},
   "source": [
    "* the split() method  returns a list where the text between the specified seperator becomes the list items.\n",
    "example : \n",
    "          The split() method splits the string into substring if it finds instances the seperator:"
   ]
  },
  {
   "cell_type": "code",
   "execution_count": 20,
   "id": "e3e42e0a-1450-4046-ad40-b746c72a48a5",
   "metadata": {},
   "outputs": [
    {
     "name": "stdout",
     "output_type": "stream",
     "text": [
      "['Hello World!']\n"
     ]
    }
   ],
   "source": [
    "a = \"Hello World!\"\n",
    "print(a.split(\",\"))"
   ]
  },
  {
   "cell_type": "markdown",
   "id": "7e548823-d229-4752-99cb-723b7cead28f",
   "metadata": {},
   "source": [
    "* Python-String Concatenatior"
   ]
  },
  {
   "cell_type": "raw",
   "id": "d207fdcb-f740-4eae-ba3c-a27f9c3cd31e",
   "metadata": {},
   "source": [
    "* String Concatenation : the concatenate , or combine , two strings you can use the + operator.\n",
    "example :\n",
    "         merge variable a with variable b into variable c :"
   ]
  },
  {
   "cell_type": "code",
   "execution_count": 26,
   "id": "e4ede448-4d56-4566-8abf-f9832245e572",
   "metadata": {},
   "outputs": [
    {
     "name": "stdout",
     "output_type": "stream",
     "text": [
      "HelloWorld\n"
     ]
    }
   ],
   "source": [
    "a = \"Hello\"\n",
    "b = \"World\"\n",
    "c = a + b\n",
    "print(c)"
   ]
  },
  {
   "cell_type": "raw",
   "id": "d032df4d-8834-4990-9359-716ec2c2eb93",
   "metadata": {},
   "source": [
    "example : To add a space between them , add a \" \":"
   ]
  },
  {
   "cell_type": "code",
   "execution_count": 28,
   "id": "075c4aea-86c7-4ef2-bb01-95e3d40ac1f4",
   "metadata": {},
   "outputs": [
    {
     "name": "stdout",
     "output_type": "stream",
     "text": [
      "Hello World\n"
     ]
    }
   ],
   "source": [
    "a = \"Hello\"\n",
    "b = \"World\"\n",
    "c = a + \" \" + b \n",
    "print(c)"
   ]
  },
  {
   "cell_type": "markdown",
   "id": "b733baad-6c14-47ab-8626-55d0548bf07b",
   "metadata": {},
   "source": [
    "* Python-Format Strings :"
   ]
  },
  {
   "cell_type": "raw",
   "id": "2894b5c1-fcc0-442d-9bb1-82cc9cee0b24",
   "metadata": {},
   "source": [
    "* String Format :\n",
    "                  as we learned in the python variables chapter we cannot combine string and numbers like this :\n",
    "  example :   "
   ]
  },
  {
   "cell_type": "code",
   "execution_count": 41,
   "id": "ff3b0590-fa0e-45fe-bc0f-d3693336dd61",
   "metadata": {},
   "outputs": [
    {
     "ename": "TypeError",
     "evalue": "can only concatenate str (not \"int\") to str",
     "output_type": "error",
     "traceback": [
      "\u001b[1;31m---------------------------------------------------------------------------\u001b[0m",
      "\u001b[1;31mTypeError\u001b[0m                                 Traceback (most recent call last)",
      "Cell \u001b[1;32mIn[41], line 2\u001b[0m\n\u001b[0;32m      1\u001b[0m age \u001b[38;5;241m=\u001b[39m \u001b[38;5;241m36\u001b[39m\n\u001b[1;32m----> 2\u001b[0m txt \u001b[38;5;241m=\u001b[39m \u001b[38;5;124m\"\u001b[39m\u001b[38;5;124mmy name is John , I am \u001b[39m\u001b[38;5;124m\"\u001b[39m \u001b[38;5;241m+\u001b[39m age \n\u001b[0;32m      3\u001b[0m \u001b[38;5;28mprint\u001b[39m(txt)\n",
      "\u001b[1;31mTypeError\u001b[0m: can only concatenate str (not \"int\") to str"
     ]
    }
   ],
   "source": [
    "age = 36\n",
    "txt = \"my name is John , I am \" + age \n",
    "print(txt)"
   ]
  },
  {
   "cell_type": "raw",
   "id": "16d9a7fa-4d04-47a3-8dca-8ce5d3f59fa1",
   "metadata": {},
   "source": [
    "But we can combine strings and numbers by using f-strings or the format() method !"
   ]
  },
  {
   "cell_type": "markdown",
   "id": "0619cbc2-8f0c-4172-916b-d9a5f26466a9",
   "metadata": {},
   "source": [
    "* F-strings :"
   ]
  },
  {
   "cell_type": "raw",
   "id": "a88db05c-b524-48a8-b3ca-c10f06cfc719",
   "metadata": {},
   "source": [
    "F-string was introduced in Python 3.6 , and is now the preffered way of formatting strings .\n",
    "To specify a string as an f-string , simply put an f in front of the string literal , and add curly brackets {} as placeholders for variables and after operations ."
   ]
  },
  {
   "cell_type": "raw",
   "id": "51b40108-28e6-4082-90ba-fd7822b50f13",
   "metadata": {},
   "source": [
    "example : Create an f-string"
   ]
  },
  {
   "cell_type": "code",
   "execution_count": 47,
   "id": "118493b9-f521-41bc-b9d9-2cbe434be65f",
   "metadata": {},
   "outputs": [
    {
     "name": "stdout",
     "output_type": "stream",
     "text": [
      "my name is John , I am 36\n"
     ]
    }
   ],
   "source": [
    "age = 36\n",
    "txt = f\"my name is John , I am {age}\"\n",
    "print(txt)"
   ]
  },
  {
   "cell_type": "raw",
   "id": "4f3b7076-30ab-4c37-b409-2412862072a3",
   "metadata": {},
   "source": [
    "* Placeholders and Modifiers : A placeholder can contain variables , operations , functions , and modifiers to format the value.\n",
    "* Example:\n",
    "        Add a placeholder for the price variable :"
   ]
  },
  {
   "cell_type": "code",
   "execution_count": 51,
   "id": "9bf5bf48-dc1f-4e41-bdfe-bcf146074f42",
   "metadata": {},
   "outputs": [
    {
     "name": "stdout",
     "output_type": "stream",
     "text": [
      "the price is 59 dollars\n"
     ]
    }
   ],
   "source": [
    "price = 59\n",
    "txt = f\"the price is {price} dollars\" \n",
    "print(txt)"
   ]
  },
  {
   "cell_type": "code",
   "execution_count": null,
   "id": "8d76edbc-5b1f-48af-82d8-e3760a90c50c",
   "metadata": {},
   "outputs": [],
   "source": []
  }
 ],
 "metadata": {
  "kernelspec": {
   "display_name": "Python [conda env:base] *",
   "language": "python",
   "name": "conda-base-py"
  },
  "language_info": {
   "codemirror_mode": {
    "name": "ipython",
    "version": 3
   },
   "file_extension": ".py",
   "mimetype": "text/x-python",
   "name": "python",
   "nbconvert_exporter": "python",
   "pygments_lexer": "ipython3",
   "version": "3.12.7"
  }
 },
 "nbformat": 4,
 "nbformat_minor": 5
}
